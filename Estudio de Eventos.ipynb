{
 "cells": [
  {
   "cell_type": "markdown",
   "metadata": {},
   "source": [
    "¡Hola!<br />\n",
    "Soy **Francisco Cortés**, estoy contento de revisar tu proyecto y ser parte de tu proceso de aprendizaje.\n",
    "A lo largo del texto, haré algunas observaciones sobre mejoras en el código y también haré comentarios sobre tus percepciones sobre el tema. Si existe algún error en el código, no te preocupes, estoy aquí para ayudarte a mejorarlo, en la primera iteración te lo señalaré para que tengas la oportunidad de corregirlo, pero si aún no encuentras una solución para esta tarea, te daré una pista más precisa en la próxima iteración y también algunos ejemplos prácticos. Estaré abierto a retroalimentación y discusiones sobre el tema.<br />\n",
    "Encontrarás mis comentarios a continuación - **por favor no los muevas, modifiques o borres**.\n",
    "Revisaré cuidadosamente tu código para comprobar que se han cumplido con los requisitos y te proporcionaré mis comentarios en cajas verdes, amarillas o rojas como esta:\n",
    "\n",
    "<div class=\"alert alert-block alert-success\">\n",
    "<b>Comentario del revisor</b> <a class=\"tocSkip\"></a>\n",
    "\n",
    "Si la ejecución fue perfecta succesfully.\n",
    "</div>\n",
    "\n",
    "<div class=\"alert alert-block alert-warning\">\n",
    "<b>Comentario del revisor</b> <a class=\"tocSkip\"></a>\n",
    "\n",
    "Si existe alguna recomendación para que tu código mejore.\n",
    "</div>\n",
    "\n",
    "<div class=\"alert alert-block alert-danger\">\n",
    "\n",
    "<b>Comentario del revisor</b> <a class=\"tocSkip\"></a>\n",
    "\n",
    "Si existen correcciones necesarias para cumplir con los requisitos. El trabajo no puede ser aceptado si hay alguna caja roja.\n",
    "</div>\n",
    "\n",
    "Puedes responderme de la siguiente manera:\n",
    "\n",
    "<div class=\"alert alert-block alert-info\">\n",
    "<b>Respuesta del estudiante.</b> <a class=\"tocSkip\"></a>\n",
    "</div>"
   ]
  },
  {
   "cell_type": "markdown",
   "metadata": {
    "tags": [
     "2b1861ea-c3e0-4698-b05b-5c58897896c5"
    ]
   },
   "source": [
    "# Descripción del Proyecto\n",
    "\n",
    "Investigación de una empresa emergente que vende productos alimenticios. Se Busca conocer el comportamiento que tienen los usuarios con la aplicación de la empresa. \n",
    "\n",
    "El dataset con el que se trabajará consta de lo siguiente:\n",
    "\n",
    "- ventName: nombre del evento.\n",
    "- DeviceIDHash: identificador de usuario unívoco.\n",
    "- EventTimestamp: hora del evento.\n",
    "- ExpId: número de experimento: 246 y 247 son los grupos de control, 248 es el grupo de prueba.\n",
    "\n",
    "En primer lugar se investigará, mediante un embudo de ventas, cómo es que los usuarios llegan a la etapa de compra así como entender que sucede en las etapas previas. Para la segunda parte se estudiarán y analizarán los resultados de las pruebas A/A/B en la cual, para el grupo B se experimentó con una versión con fuentes alteradas de la aplicación."
   ]
  },
  {
   "cell_type": "markdown",
   "metadata": {},
   "source": [
    "## Importación de librerias y datos"
   ]
  },
  {
   "cell_type": "code",
   "execution_count": 1,
   "metadata": {},
   "outputs": [],
   "source": [
    "import pandas as pd\n",
    "import matplotlib.pyplot as plt\n",
    "import seaborn as sns\n",
    "from scipy import stats\n",
    "from scipy.stats import mannwhitneyu\n",
    "from statsmodels.stats.proportion import proportions_ztest"
   ]
  },
  {
   "cell_type": "code",
   "execution_count": 2,
   "metadata": {},
   "outputs": [
    {
     "data": {
      "text/html": [
       "<div>\n",
       "<style scoped>\n",
       "    .dataframe tbody tr th:only-of-type {\n",
       "        vertical-align: middle;\n",
       "    }\n",
       "\n",
       "    .dataframe tbody tr th {\n",
       "        vertical-align: top;\n",
       "    }\n",
       "\n",
       "    .dataframe thead th {\n",
       "        text-align: right;\n",
       "    }\n",
       "</style>\n",
       "<table border=\"1\" class=\"dataframe\">\n",
       "  <thead>\n",
       "    <tr style=\"text-align: right;\">\n",
       "      <th></th>\n",
       "      <th>EventName</th>\n",
       "      <th>DeviceIDHash</th>\n",
       "      <th>EventTimestamp</th>\n",
       "      <th>ExpId</th>\n",
       "    </tr>\n",
       "  </thead>\n",
       "  <tbody>\n",
       "    <tr>\n",
       "      <th>0</th>\n",
       "      <td>MainScreenAppear</td>\n",
       "      <td>4575588528974610257</td>\n",
       "      <td>1564029816</td>\n",
       "      <td>246</td>\n",
       "    </tr>\n",
       "    <tr>\n",
       "      <th>1</th>\n",
       "      <td>MainScreenAppear</td>\n",
       "      <td>7416695313311560658</td>\n",
       "      <td>1564053102</td>\n",
       "      <td>246</td>\n",
       "    </tr>\n",
       "  </tbody>\n",
       "</table>\n",
       "</div>"
      ],
      "text/plain": [
       "          EventName         DeviceIDHash  EventTimestamp  ExpId\n",
       "0  MainScreenAppear  4575588528974610257      1564029816    246\n",
       "1  MainScreenAppear  7416695313311560658      1564053102    246"
      ]
     },
     "execution_count": 2,
     "metadata": {},
     "output_type": "execute_result"
    }
   ],
   "source": [
    "logs = pd.read_csv(\"/datasets/logs_exp_us.csv\", sep = '\\t')\n",
    "\n",
    "logs.head(2)"
   ]
  },
  {
   "cell_type": "markdown",
   "metadata": {},
   "source": [
    "## Análisis exploratorio de datos."
   ]
  },
  {
   "cell_type": "code",
   "execution_count": 3,
   "metadata": {},
   "outputs": [
    {
     "name": "stdout",
     "output_type": "stream",
     "text": [
      "Forma del data set \"logs\"\n"
     ]
    },
    {
     "data": {
      "text/plain": [
       "(244126, 4)"
      ]
     },
     "metadata": {},
     "output_type": "display_data"
    },
    {
     "name": "stdout",
     "output_type": "stream",
     "text": [
      "Información general del data set \"logs\"\n",
      "<class 'pandas.core.frame.DataFrame'>\n",
      "RangeIndex: 244126 entries, 0 to 244125\n",
      "Data columns (total 4 columns):\n",
      " #   Column          Non-Null Count   Dtype \n",
      "---  ------          --------------   ----- \n",
      " 0   EventName       244126 non-null  object\n",
      " 1   DeviceIDHash    244126 non-null  int64 \n",
      " 2   EventTimestamp  244126 non-null  int64 \n",
      " 3   ExpId           244126 non-null  int64 \n",
      "dtypes: int64(3), object(1)\n",
      "memory usage: 7.5+ MB\n"
     ]
    },
    {
     "data": {
      "text/plain": [
       "None"
      ]
     },
     "metadata": {},
     "output_type": "display_data"
    },
    {
     "name": "stdout",
     "output_type": "stream",
     "text": [
      "Primeras 5 filas del data set \"logs\"\n"
     ]
    },
    {
     "data": {
      "text/html": [
       "<div>\n",
       "<style scoped>\n",
       "    .dataframe tbody tr th:only-of-type {\n",
       "        vertical-align: middle;\n",
       "    }\n",
       "\n",
       "    .dataframe tbody tr th {\n",
       "        vertical-align: top;\n",
       "    }\n",
       "\n",
       "    .dataframe thead th {\n",
       "        text-align: right;\n",
       "    }\n",
       "</style>\n",
       "<table border=\"1\" class=\"dataframe\">\n",
       "  <thead>\n",
       "    <tr style=\"text-align: right;\">\n",
       "      <th></th>\n",
       "      <th>EventName</th>\n",
       "      <th>DeviceIDHash</th>\n",
       "      <th>EventTimestamp</th>\n",
       "      <th>ExpId</th>\n",
       "    </tr>\n",
       "  </thead>\n",
       "  <tbody>\n",
       "    <tr>\n",
       "      <th>0</th>\n",
       "      <td>MainScreenAppear</td>\n",
       "      <td>4575588528974610257</td>\n",
       "      <td>1564029816</td>\n",
       "      <td>246</td>\n",
       "    </tr>\n",
       "    <tr>\n",
       "      <th>1</th>\n",
       "      <td>MainScreenAppear</td>\n",
       "      <td>7416695313311560658</td>\n",
       "      <td>1564053102</td>\n",
       "      <td>246</td>\n",
       "    </tr>\n",
       "    <tr>\n",
       "      <th>2</th>\n",
       "      <td>PaymentScreenSuccessful</td>\n",
       "      <td>3518123091307005509</td>\n",
       "      <td>1564054127</td>\n",
       "      <td>248</td>\n",
       "    </tr>\n",
       "    <tr>\n",
       "      <th>3</th>\n",
       "      <td>CartScreenAppear</td>\n",
       "      <td>3518123091307005509</td>\n",
       "      <td>1564054127</td>\n",
       "      <td>248</td>\n",
       "    </tr>\n",
       "    <tr>\n",
       "      <th>4</th>\n",
       "      <td>PaymentScreenSuccessful</td>\n",
       "      <td>6217807653094995999</td>\n",
       "      <td>1564055322</td>\n",
       "      <td>248</td>\n",
       "    </tr>\n",
       "  </tbody>\n",
       "</table>\n",
       "</div>"
      ],
      "text/plain": [
       "                 EventName         DeviceIDHash  EventTimestamp  ExpId\n",
       "0         MainScreenAppear  4575588528974610257      1564029816    246\n",
       "1         MainScreenAppear  7416695313311560658      1564053102    246\n",
       "2  PaymentScreenSuccessful  3518123091307005509      1564054127    248\n",
       "3         CartScreenAppear  3518123091307005509      1564054127    248\n",
       "4  PaymentScreenSuccessful  6217807653094995999      1564055322    248"
      ]
     },
     "metadata": {},
     "output_type": "display_data"
    },
    {
     "name": "stdout",
     "output_type": "stream",
     "text": [
      "Últimas 5 filas del data set \"logs\"\n"
     ]
    },
    {
     "data": {
      "text/html": [
       "<div>\n",
       "<style scoped>\n",
       "    .dataframe tbody tr th:only-of-type {\n",
       "        vertical-align: middle;\n",
       "    }\n",
       "\n",
       "    .dataframe tbody tr th {\n",
       "        vertical-align: top;\n",
       "    }\n",
       "\n",
       "    .dataframe thead th {\n",
       "        text-align: right;\n",
       "    }\n",
       "</style>\n",
       "<table border=\"1\" class=\"dataframe\">\n",
       "  <thead>\n",
       "    <tr style=\"text-align: right;\">\n",
       "      <th></th>\n",
       "      <th>EventName</th>\n",
       "      <th>DeviceIDHash</th>\n",
       "      <th>EventTimestamp</th>\n",
       "      <th>ExpId</th>\n",
       "    </tr>\n",
       "  </thead>\n",
       "  <tbody>\n",
       "    <tr>\n",
       "      <th>244121</th>\n",
       "      <td>MainScreenAppear</td>\n",
       "      <td>4599628364049201812</td>\n",
       "      <td>1565212345</td>\n",
       "      <td>247</td>\n",
       "    </tr>\n",
       "    <tr>\n",
       "      <th>244122</th>\n",
       "      <td>MainScreenAppear</td>\n",
       "      <td>5849806612437486590</td>\n",
       "      <td>1565212439</td>\n",
       "      <td>246</td>\n",
       "    </tr>\n",
       "    <tr>\n",
       "      <th>244123</th>\n",
       "      <td>MainScreenAppear</td>\n",
       "      <td>5746969938801999050</td>\n",
       "      <td>1565212483</td>\n",
       "      <td>246</td>\n",
       "    </tr>\n",
       "    <tr>\n",
       "      <th>244124</th>\n",
       "      <td>MainScreenAppear</td>\n",
       "      <td>5746969938801999050</td>\n",
       "      <td>1565212498</td>\n",
       "      <td>246</td>\n",
       "    </tr>\n",
       "    <tr>\n",
       "      <th>244125</th>\n",
       "      <td>OffersScreenAppear</td>\n",
       "      <td>5746969938801999050</td>\n",
       "      <td>1565212517</td>\n",
       "      <td>246</td>\n",
       "    </tr>\n",
       "  </tbody>\n",
       "</table>\n",
       "</div>"
      ],
      "text/plain": [
       "                 EventName         DeviceIDHash  EventTimestamp  ExpId\n",
       "244121    MainScreenAppear  4599628364049201812      1565212345    247\n",
       "244122    MainScreenAppear  5849806612437486590      1565212439    246\n",
       "244123    MainScreenAppear  5746969938801999050      1565212483    246\n",
       "244124    MainScreenAppear  5746969938801999050      1565212498    246\n",
       "244125  OffersScreenAppear  5746969938801999050      1565212517    246"
      ]
     },
     "metadata": {},
     "output_type": "display_data"
    },
    {
     "name": "stdout",
     "output_type": "stream",
     "text": [
      "El dataset contiene 413 filas duplicadas\n"
     ]
    }
   ],
   "source": [
    "print('Forma del data set \"logs\"')\n",
    "display(logs.shape)\n",
    "print('Información general del data set \"logs\"')\n",
    "display(logs.info())\n",
    "print('Primeras 5 filas del data set \"logs\"')\n",
    "display(logs.head(5))\n",
    "print('Últimas 5 filas del data set \"logs\"')\n",
    "display(logs.tail(5))\n",
    "print(f'El dataset contiene {logs.duplicated().sum()} filas duplicadas')"
   ]
  },
  {
   "cell_type": "markdown",
   "metadata": {},
   "source": [
    "<div class=\"alert alert-block alert-success\">\n",
    "<b>Comentario de Revisor</b> <a class=\"tocSkip\"></a>\n",
    "\n",
    "Buena manera de leer los datos iniciales y de revisar su contenido\n",
    "\n",
    "</div>"
   ]
  },
  {
   "cell_type": "markdown",
   "metadata": {},
   "source": [
    "### Tratamiento de datos."
   ]
  },
  {
   "cell_type": "code",
   "execution_count": 4,
   "metadata": {},
   "outputs": [
    {
     "data": {
      "text/html": [
       "<div>\n",
       "<style scoped>\n",
       "    .dataframe tbody tr th:only-of-type {\n",
       "        vertical-align: middle;\n",
       "    }\n",
       "\n",
       "    .dataframe tbody tr th {\n",
       "        vertical-align: top;\n",
       "    }\n",
       "\n",
       "    .dataframe thead th {\n",
       "        text-align: right;\n",
       "    }\n",
       "</style>\n",
       "<table border=\"1\" class=\"dataframe\">\n",
       "  <thead>\n",
       "    <tr style=\"text-align: right;\">\n",
       "      <th></th>\n",
       "      <th>event_name</th>\n",
       "      <th>user_id</th>\n",
       "      <th>event_time</th>\n",
       "      <th>exp_id</th>\n",
       "      <th>date_hour</th>\n",
       "      <th>date</th>\n",
       "    </tr>\n",
       "  </thead>\n",
       "  <tbody>\n",
       "    <tr>\n",
       "      <th>0</th>\n",
       "      <td>MainScreenAppear</td>\n",
       "      <td>4575588528974610257</td>\n",
       "      <td>1564029816</td>\n",
       "      <td>246</td>\n",
       "      <td>2019-07-25 04:43:36</td>\n",
       "      <td>2019-07-25</td>\n",
       "    </tr>\n",
       "    <tr>\n",
       "      <th>1</th>\n",
       "      <td>MainScreenAppear</td>\n",
       "      <td>7416695313311560658</td>\n",
       "      <td>1564053102</td>\n",
       "      <td>246</td>\n",
       "      <td>2019-07-25 11:11:42</td>\n",
       "      <td>2019-07-25</td>\n",
       "    </tr>\n",
       "    <tr>\n",
       "      <th>2</th>\n",
       "      <td>PaymentScreenSuccessful</td>\n",
       "      <td>3518123091307005509</td>\n",
       "      <td>1564054127</td>\n",
       "      <td>248</td>\n",
       "      <td>2019-07-25 11:28:47</td>\n",
       "      <td>2019-07-25</td>\n",
       "    </tr>\n",
       "    <tr>\n",
       "      <th>3</th>\n",
       "      <td>CartScreenAppear</td>\n",
       "      <td>3518123091307005509</td>\n",
       "      <td>1564054127</td>\n",
       "      <td>248</td>\n",
       "      <td>2019-07-25 11:28:47</td>\n",
       "      <td>2019-07-25</td>\n",
       "    </tr>\n",
       "    <tr>\n",
       "      <th>4</th>\n",
       "      <td>PaymentScreenSuccessful</td>\n",
       "      <td>6217807653094995999</td>\n",
       "      <td>1564055322</td>\n",
       "      <td>248</td>\n",
       "      <td>2019-07-25 11:48:42</td>\n",
       "      <td>2019-07-25</td>\n",
       "    </tr>\n",
       "  </tbody>\n",
       "</table>\n",
       "</div>"
      ],
      "text/plain": [
       "                event_name              user_id  event_time  exp_id  \\\n",
       "0         MainScreenAppear  4575588528974610257  1564029816     246   \n",
       "1         MainScreenAppear  7416695313311560658  1564053102     246   \n",
       "2  PaymentScreenSuccessful  3518123091307005509  1564054127     248   \n",
       "3         CartScreenAppear  3518123091307005509  1564054127     248   \n",
       "4  PaymentScreenSuccessful  6217807653094995999  1564055322     248   \n",
       "\n",
       "            date_hour        date  \n",
       "0 2019-07-25 04:43:36  2019-07-25  \n",
       "1 2019-07-25 11:11:42  2019-07-25  \n",
       "2 2019-07-25 11:28:47  2019-07-25  \n",
       "3 2019-07-25 11:28:47  2019-07-25  \n",
       "4 2019-07-25 11:48:42  2019-07-25  "
      ]
     },
     "execution_count": 4,
     "metadata": {},
     "output_type": "execute_result"
    }
   ],
   "source": [
    "# Eliminación de filas duplicadas\n",
    "logs = (\n",
    "    logs.drop_duplicates()\n",
    "    .rename(columns = {\n",
    "        'EventName': 'event_name',\n",
    "        'DeviceIDHash': 'user_id',\n",
    "        'EventTimestamp': 'event_time',\n",
    "        'ExpId': 'exp_id'\n",
    "    })\n",
    ")\n",
    "\n",
    "logs['date_hour'] = pd.to_datetime(logs['event_time'], unit = 's')\n",
    "logs['date'] = logs['date_hour'].dt.date\n",
    "\n",
    "logs.head(5)"
   ]
  },
  {
   "cell_type": "markdown",
   "metadata": {},
   "source": [
    "<div class=\"alert alert-block alert-success\">\n",
    "<b>Comentario de Revisor</b> <a class=\"tocSkip\"></a><br/>\n",
    "Correcta forma de reenombrar las columnas\n",
    "\n",
    "</div>"
   ]
  },
  {
   "cell_type": "markdown",
   "metadata": {},
   "source": [
    "### Conclusiones del análisis exploratorio de datos.\n",
    "\n",
    "- El dataset consta de 244,126 filas y 4 columnas, no contiene valores nulos y tiene 413 filas duplicadas. Los nombres de las columnas tienen letras mayúsculas y nombres que no son muy representativos para mí.\n",
    "\n",
    "- En el tratamiento de datos eliminé las filas repetidas ya que representan una cantidad muy pequeña de los datos y parace poco probable que un identificador de usuario unívoco con realicé el mismo evento a la misma hora. También cambié el nombre de las columnas por nombres que sean más representativos para mí. Por último se modificó el formato de la columna \"EventTimestamp\" ahora llamada \"date\" para que fuera más legible y manejable en procesos futuros.\n",
    "\n",
    "- Para ayudar al futuro tratamiento de los datos, también se agregaron dos columnas, una con la fecha y hora del evento y otra con la fecha solamente."
   ]
  },
  {
   "cell_type": "markdown",
   "metadata": {},
   "source": [
    "<div class=\"alert alert-block alert-success\">\n",
    "<b>Comentario de Revisor</b> <a class=\"tocSkip\"></a>\n",
    "\n",
    "Buena manera de limpiar el dataset y buenas conclusiones intermedias\n",
    "\n",
    "</div>"
   ]
  },
  {
   "cell_type": "markdown",
   "metadata": {},
   "source": [
    "## Estudio y comprobación de datos."
   ]
  },
  {
   "cell_type": "code",
   "execution_count": 5,
   "metadata": {},
   "outputs": [
    {
     "data": {
      "text/html": [
       "<div>\n",
       "<style scoped>\n",
       "    .dataframe tbody tr th:only-of-type {\n",
       "        vertical-align: middle;\n",
       "    }\n",
       "\n",
       "    .dataframe tbody tr th {\n",
       "        vertical-align: top;\n",
       "    }\n",
       "\n",
       "    .dataframe thead th {\n",
       "        text-align: right;\n",
       "    }\n",
       "</style>\n",
       "<table border=\"1\" class=\"dataframe\">\n",
       "  <thead>\n",
       "    <tr style=\"text-align: right;\">\n",
       "      <th></th>\n",
       "      <th>event_name</th>\n",
       "      <th>user_id</th>\n",
       "      <th>event_time</th>\n",
       "      <th>exp_id</th>\n",
       "      <th>date_hour</th>\n",
       "      <th>date</th>\n",
       "    </tr>\n",
       "  </thead>\n",
       "  <tbody>\n",
       "    <tr>\n",
       "      <th>0</th>\n",
       "      <td>MainScreenAppear</td>\n",
       "      <td>4575588528974610257</td>\n",
       "      <td>1564029816</td>\n",
       "      <td>246</td>\n",
       "      <td>2019-07-25 04:43:36</td>\n",
       "      <td>2019-07-25</td>\n",
       "    </tr>\n",
       "    <tr>\n",
       "      <th>1</th>\n",
       "      <td>MainScreenAppear</td>\n",
       "      <td>7416695313311560658</td>\n",
       "      <td>1564053102</td>\n",
       "      <td>246</td>\n",
       "      <td>2019-07-25 11:11:42</td>\n",
       "      <td>2019-07-25</td>\n",
       "    </tr>\n",
       "  </tbody>\n",
       "</table>\n",
       "</div>"
      ],
      "text/plain": [
       "         event_name              user_id  event_time  exp_id  \\\n",
       "0  MainScreenAppear  4575588528974610257  1564029816     246   \n",
       "1  MainScreenAppear  7416695313311560658  1564053102     246   \n",
       "\n",
       "            date_hour        date  \n",
       "0 2019-07-25 04:43:36  2019-07-25  \n",
       "1 2019-07-25 11:11:42  2019-07-25  "
      ]
     },
     "execution_count": 5,
     "metadata": {},
     "output_type": "execute_result"
    }
   ],
   "source": [
    "logs.head(2)"
   ]
  },
  {
   "cell_type": "markdown",
   "metadata": {},
   "source": [
    "### Total de eventos en los registros."
   ]
  },
  {
   "cell_type": "code",
   "execution_count": 6,
   "metadata": {},
   "outputs": [
    {
     "name": "stdout",
     "output_type": "stream",
     "text": [
      "El total de eventos del df es: 243713.\n"
     ]
    }
   ],
   "source": [
    "total_events = logs.shape[0]\n",
    "\n",
    "print(f'El total de eventos del df es: {total_events}.')"
   ]
  },
  {
   "cell_type": "markdown",
   "metadata": {},
   "source": [
    "### Total de usuarios y usuarias en los registros."
   ]
  },
  {
   "cell_type": "code",
   "execution_count": 7,
   "metadata": {},
   "outputs": [
    {
     "name": "stdout",
     "output_type": "stream",
     "text": [
      "El total de usuarios/as en los registros es de: 7551.\n"
     ]
    }
   ],
   "source": [
    "total_users = logs['user_id'].nunique()\n",
    "\n",
    "print(f'El total de usuarios/as en los registros es de: {total_users}.')"
   ]
  },
  {
   "cell_type": "markdown",
   "metadata": {},
   "source": [
    "### Promedio de usuarios por evento."
   ]
  },
  {
   "cell_type": "code",
   "execution_count": 8,
   "metadata": {},
   "outputs": [
    {
     "name": "stdout",
     "output_type": "stream",
     "text": [
      "El promedio de usuarios por evento es de: 32.27559263673685.\n"
     ]
    }
   ],
   "source": [
    "user_per_evenet_avg = total_events / total_users\n",
    "\n",
    "print(f'El promedio de usuarios por evento es de: {user_per_evenet_avg}.')"
   ]
  },
  {
   "cell_type": "markdown",
   "metadata": {},
   "source": [
    "### Periodo de tiempo que cubren los datos."
   ]
  },
  {
   "cell_type": "markdown",
   "metadata": {},
   "source": [
    "#### Fecha máxima y mínima del Dateset."
   ]
  },
  {
   "cell_type": "code",
   "execution_count": 9,
   "metadata": {},
   "outputs": [
    {
     "name": "stdout",
     "output_type": "stream",
     "text": [
      "La fecha máxima registrada del df es: 2019-08-07\n",
      "La fecha mínima registrada del df es: 2019-07-25\n"
     ]
    }
   ],
   "source": [
    "max_date = logs['date'].max()\n",
    "min_date = logs['date'].min()\n",
    "\n",
    "print(f'La fecha máxima registrada del df es: {max_date}')\n",
    "print(f'La fecha mínima registrada del df es: {min_date}')"
   ]
  },
  {
   "cell_type": "markdown",
   "metadata": {},
   "source": [
    "<div class=\"alert alert-block alert-success\">\n",
    "<b>Comentario de Revisor</b> <a class=\"tocSkip\"></a>\n",
    "\n",
    "Has respondido correctamente las últimas preguntas, el formato que usas es limpio y ordenado.<br/>\n",
    "\n",
    "</div>"
   ]
  },
  {
   "cell_type": "markdown",
   "metadata": {},
   "source": [
    "#### Revisión de datos para verificar qué tan completos están."
   ]
  },
  {
   "cell_type": "code",
   "execution_count": 10,
   "metadata": {},
   "outputs": [
    {
     "data": {
      "image/png": "[encoded data removed]",
      "text/plain": [
       "<Figure size 800x800 with 1 Axes>"
      ]
     },
     "metadata": {},
     "output_type": "display_data"
    }
   ],
   "source": [
    "plt.figure(figsize = (8, 8))\n",
    "\n",
    "sns.histplot(\n",
    "    data = logs,\n",
    "    x = 'date_hour',\n",
    "    bins = 50,\n",
    "    kde = True\n",
    ")\n",
    "plt.title('Insidencias por fecha y hora')\n",
    "plt.xlabel('Fecha y hora')\n",
    "plt.ylabel('Conteo')\n",
    "plt.xticks(rotation = 60)\n",
    "\n",
    "plt.show()"
   ]
  },
  {
   "cell_type": "markdown",
   "metadata": {},
   "source": [
    "Parece que el df no cuenta con información completa previa al primero de agosto de 2019 por lo cuál veremos si podemos tomar en cuenta a partir de esta fecha para nuestro análisis."
   ]
  },
  {
   "cell_type": "markdown",
   "metadata": {},
   "source": [
    "<div class=\"alert alert-block alert-success\">\n",
    "<b>Comentario de Revisor</b> <a class=\"tocSkip\"></a>\n",
    "\n",
    "Correcto, buena manera de mostrar los datos y buena manera para decidir que fechas usar.<br/>\n",
    "\n",
    "</div>"
   ]
  },
  {
   "cell_type": "markdown",
   "metadata": {},
   "source": [
    "#### Periodo de tiempo que será tomado para el análisis de los datos."
   ]
  },
  {
   "cell_type": "code",
   "execution_count": 11,
   "metadata": {},
   "outputs": [
    {
     "name": "stdout",
     "output_type": "stream",
     "text": [
      "Conteo de eventos por día date\n",
      "2019-07-25    1.285714\n",
      "2019-07-26    1.409091\n",
      "2019-07-27    1.410256\n",
      "2019-07-28    1.521739\n",
      "2019-07-29    1.362963\n",
      "2019-07-30    1.391892\n",
      "2019-07-31    2.196970\n",
      "2019-08-01    9.759924\n",
      "2019-08-02    9.748835\n",
      "2019-08-03    9.558300\n",
      "2019-08-04    9.347321\n",
      "2019-08-05    9.483956\n",
      "2019-08-06    9.124936\n",
      "2019-08-07    8.517119\n",
      "Name: event_count, dtype: float64\n"
     ]
    }
   ],
   "source": [
    "events_per_user_per_day = (\n",
    "    logs\n",
    "    .groupby(['date', 'user_id'])\n",
    "    .size()\n",
    "    .reset_index(name = 'event_count')\n",
    ")\n",
    "\n",
    "mean_events_per_user_per_day = (\n",
    "    events_per_user_per_day\n",
    "    .groupby('date')['event_count']\n",
    "    .mean()\n",
    ")\n",
    "print(f'Conteo de eventos por día {mean_events_per_user_per_day}')\n"
   ]
  },
  {
   "cell_type": "markdown",
   "metadata": {},
   "source": [
    "#### Conclusiones del análisis del periodo de tiempo para tomar en cuenta en el análisis.\n",
    "\n",
    "Tanto el histograma como el promedio de eventos obtenido después me hacen pensar que la mejor fecha para tomar en cuenta será a partir del primero de agosto de 2019"
   ]
  },
  {
   "cell_type": "markdown",
   "metadata": {},
   "source": [
    "<div class=\"alert alert-block alert-success\">\n",
    "<b>Comentario de Revisor</b> <a class=\"tocSkip\"></a>\n",
    "\n",
    "Buena manera de llegar a esa conclusion, me gusta que comprobaste con datos lo que se observa en la gráfica .<br/>\n",
    "\n",
    "</div>"
   ]
  },
  {
   "cell_type": "markdown",
   "metadata": {},
   "source": [
    "### Total de datos que se dejaron fuera del estudio."
   ]
  },
  {
   "cell_type": "code",
   "execution_count": 12,
   "metadata": {},
   "outputs": [
    {
     "name": "stdout",
     "output_type": "stream",
     "text": [
      "El total de datos dejados fuera son: 2826 que corresponden al 1.160% de los datos totales\n"
     ]
    }
   ],
   "source": [
    "limit_date = pd.to_datetime('2019-07-31')\n",
    "\n",
    "logs_filtered = logs[logs['date'] > limit_date]\n",
    "\n",
    "data_out = (\n",
    "    logs.shape[0]\n",
    "    - logs_filtered.shape[0]\n",
    ")\n",
    "percentage = (\n",
    "    (data_out\n",
    "    / logs.shape[0])*100\n",
    ")\n",
    "print(f'El total de datos dejados fuera son: {data_out} que corresponden al {percentage:.3f}% de los datos totales')"
   ]
  },
  {
   "cell_type": "markdown",
   "metadata": {},
   "source": [
    "<div class=\"alert alert-block alert-success\">\n",
    "<b>Comentario de Revisor</b> <a class=\"tocSkip\"></a>\n",
    "\n",
    "Buena manera de encontrar la cantidad de datos que se dejan fuera, resultan poco significativos para el analisis final.<br/>\n",
    "\n",
    "</div>"
   ]
  },
  {
   "cell_type": "markdown",
   "metadata": {},
   "source": [
    "### Comprobación de datos de usuarios y usuarias de los 3 grupos de estudio."
   ]
  },
  {
   "cell_type": "code",
   "execution_count": 13,
   "metadata": {},
   "outputs": [
    {
     "name": "stdout",
     "output_type": "stream",
     "text": [
      "\n",
      "El total de participantes en el grupo 246 es de 80181.\n",
      "El total de participantes en el grupo 247 es de 77950.\n",
      "El total de participantes en el grupo 248 es de 85582\n",
      "\n"
     ]
    }
   ],
   "source": [
    "group_246 = logs[logs['exp_id'] == 246]\n",
    "group_247 = logs[logs['exp_id'] == 247]\n",
    "group_248 = logs[logs['exp_id'] == 248]\n",
    "\n",
    "print(f\"\"\"\n",
    "El total de participantes en el grupo 246 es de {group_246.shape[0]}.\n",
    "El total de participantes en el grupo 247 es de {group_247.shape[0]}.\n",
    "El total de participantes en el grupo 248 es de {group_248.shape[0]}\n",
    "\"\"\")"
   ]
  },
  {
   "cell_type": "markdown",
   "metadata": {},
   "source": [
    "Con la base de datos filtrada tenemos entre 77,950 y 85,582 datos."
   ]
  },
  {
   "cell_type": "markdown",
   "metadata": {},
   "source": [
    "## Estudio del embudo de eventos."
   ]
  },
  {
   "cell_type": "code",
   "execution_count": 14,
   "metadata": {},
   "outputs": [
    {
     "data": {
      "text/html": [
       "<div>\n",
       "<style scoped>\n",
       "    .dataframe tbody tr th:only-of-type {\n",
       "        vertical-align: middle;\n",
       "    }\n",
       "\n",
       "    .dataframe tbody tr th {\n",
       "        vertical-align: top;\n",
       "    }\n",
       "\n",
       "    .dataframe thead th {\n",
       "        text-align: right;\n",
       "    }\n",
       "</style>\n",
       "<table border=\"1\" class=\"dataframe\">\n",
       "  <thead>\n",
       "    <tr style=\"text-align: right;\">\n",
       "      <th></th>\n",
       "      <th>event_name</th>\n",
       "      <th>user_id</th>\n",
       "      <th>event_time</th>\n",
       "      <th>exp_id</th>\n",
       "      <th>date_hour</th>\n",
       "      <th>date</th>\n",
       "    </tr>\n",
       "  </thead>\n",
       "  <tbody>\n",
       "    <tr>\n",
       "      <th>2828</th>\n",
       "      <td>Tutorial</td>\n",
       "      <td>3737462046622621720</td>\n",
       "      <td>1564618048</td>\n",
       "      <td>246</td>\n",
       "      <td>2019-08-01 00:07:28</td>\n",
       "      <td>2019-08-01</td>\n",
       "    </tr>\n",
       "    <tr>\n",
       "      <th>2829</th>\n",
       "      <td>MainScreenAppear</td>\n",
       "      <td>3737462046622621720</td>\n",
       "      <td>1564618080</td>\n",
       "      <td>246</td>\n",
       "      <td>2019-08-01 00:08:00</td>\n",
       "      <td>2019-08-01</td>\n",
       "    </tr>\n",
       "  </tbody>\n",
       "</table>\n",
       "</div>"
      ],
      "text/plain": [
       "            event_name              user_id  event_time  exp_id  \\\n",
       "2828          Tutorial  3737462046622621720  1564618048     246   \n",
       "2829  MainScreenAppear  3737462046622621720  1564618080     246   \n",
       "\n",
       "               date_hour        date  \n",
       "2828 2019-08-01 00:07:28  2019-08-01  \n",
       "2829 2019-08-01 00:08:00  2019-08-01  "
      ]
     },
     "execution_count": 14,
     "metadata": {},
     "output_type": "execute_result"
    }
   ],
   "source": [
    "logs_filtered.head(2)"
   ]
  },
  {
   "cell_type": "markdown",
   "metadata": {},
   "source": [
    "### Tipo de eventos en el registro y su frecuencia de suceso por orden."
   ]
  },
  {
   "cell_type": "code",
   "execution_count": 15,
   "metadata": {},
   "outputs": [
    {
     "name": "stdout",
     "output_type": "stream",
     "text": [
      "Frecuencia por cada evento\n"
     ]
    },
    {
     "data": {
      "text/html": [
       "<div>\n",
       "<style scoped>\n",
       "    .dataframe tbody tr th:only-of-type {\n",
       "        vertical-align: middle;\n",
       "    }\n",
       "\n",
       "    .dataframe tbody tr th {\n",
       "        vertical-align: top;\n",
       "    }\n",
       "\n",
       "    .dataframe thead th {\n",
       "        text-align: right;\n",
       "    }\n",
       "</style>\n",
       "<table border=\"1\" class=\"dataframe\">\n",
       "  <thead>\n",
       "    <tr style=\"text-align: right;\">\n",
       "      <th></th>\n",
       "      <th>event_name</th>\n",
       "      <th>total</th>\n",
       "    </tr>\n",
       "  </thead>\n",
       "  <tbody>\n",
       "    <tr>\n",
       "      <th>0</th>\n",
       "      <td>MainScreenAppear</td>\n",
       "      <td>117328</td>\n",
       "    </tr>\n",
       "    <tr>\n",
       "      <th>1</th>\n",
       "      <td>OffersScreenAppear</td>\n",
       "      <td>46333</td>\n",
       "    </tr>\n",
       "    <tr>\n",
       "      <th>2</th>\n",
       "      <td>CartScreenAppear</td>\n",
       "      <td>42303</td>\n",
       "    </tr>\n",
       "    <tr>\n",
       "      <th>3</th>\n",
       "      <td>PaymentScreenSuccessful</td>\n",
       "      <td>33918</td>\n",
       "    </tr>\n",
       "    <tr>\n",
       "      <th>4</th>\n",
       "      <td>Tutorial</td>\n",
       "      <td>1005</td>\n",
       "    </tr>\n",
       "  </tbody>\n",
       "</table>\n",
       "</div>"
      ],
      "text/plain": [
       "                event_name   total\n",
       "0         MainScreenAppear  117328\n",
       "1       OffersScreenAppear   46333\n",
       "2         CartScreenAppear   42303\n",
       "3  PaymentScreenSuccessful   33918\n",
       "4                 Tutorial    1005"
      ]
     },
     "metadata": {},
     "output_type": "display_data"
    }
   ],
   "source": [
    "data_grouped = (\n",
    "    logs_filtered\n",
    "    .groupby('event_name')\n",
    "    .size()\n",
    "    .sort_values(ascending = False)\n",
    "    .reset_index(name = 'total')\n",
    ")\n",
    "\n",
    "print('Frecuencia por cada evento')\n",
    "display(data_grouped)"
   ]
  },
  {
   "cell_type": "markdown",
   "metadata": {},
   "source": [
    "<div class=\"alert alert-block alert-success\">\n",
    "<b>Comentario de Revisor</b> <a class=\"tocSkip\"></a>\n",
    "\n",
    "Se puede observar como la cantidad de eventos disminuye conforme se avanza en el proceso de la compra.<br/>\n",
    "\n",
    "</div>"
   ]
  },
  {
   "cell_type": "markdown",
   "metadata": {},
   "source": [
    "### Cantidad de usuarios y usuarias que realizan estas acciones por orden.\n",
    "\n",
    "Usuarios y usuarias que realizaron la acción al menos una vez."
   ]
  },
  {
   "cell_type": "code",
   "execution_count": 16,
   "metadata": {},
   "outputs": [
    {
     "data": {
      "text/html": [
       "<div>\n",
       "<style scoped>\n",
       "    .dataframe tbody tr th:only-of-type {\n",
       "        vertical-align: middle;\n",
       "    }\n",
       "\n",
       "    .dataframe tbody tr th {\n",
       "        vertical-align: top;\n",
       "    }\n",
       "\n",
       "    .dataframe thead th {\n",
       "        text-align: right;\n",
       "    }\n",
       "</style>\n",
       "<table border=\"1\" class=\"dataframe\">\n",
       "  <thead>\n",
       "    <tr style=\"text-align: right;\">\n",
       "      <th></th>\n",
       "      <th>event_name</th>\n",
       "      <th>user_quantity</th>\n",
       "      <th>proportion</th>\n",
       "    </tr>\n",
       "  </thead>\n",
       "  <tbody>\n",
       "    <tr>\n",
       "      <th>0</th>\n",
       "      <td>MainScreenAppear</td>\n",
       "      <td>7419</td>\n",
       "      <td>0.982519</td>\n",
       "    </tr>\n",
       "    <tr>\n",
       "      <th>1</th>\n",
       "      <td>OffersScreenAppear</td>\n",
       "      <td>4593</td>\n",
       "      <td>0.608264</td>\n",
       "    </tr>\n",
       "    <tr>\n",
       "      <th>2</th>\n",
       "      <td>CartScreenAppear</td>\n",
       "      <td>3734</td>\n",
       "      <td>0.494504</td>\n",
       "    </tr>\n",
       "    <tr>\n",
       "      <th>3</th>\n",
       "      <td>PaymentScreenSuccessful</td>\n",
       "      <td>3539</td>\n",
       "      <td>0.468680</td>\n",
       "    </tr>\n",
       "    <tr>\n",
       "      <th>4</th>\n",
       "      <td>Tutorial</td>\n",
       "      <td>840</td>\n",
       "      <td>0.111244</td>\n",
       "    </tr>\n",
       "  </tbody>\n",
       "</table>\n",
       "</div>"
      ],
      "text/plain": [
       "                event_name  user_quantity  proportion\n",
       "0         MainScreenAppear           7419    0.982519\n",
       "1       OffersScreenAppear           4593    0.608264\n",
       "2         CartScreenAppear           3734    0.494504\n",
       "3  PaymentScreenSuccessful           3539    0.468680\n",
       "4                 Tutorial            840    0.111244"
      ]
     },
     "execution_count": 16,
     "metadata": {},
     "output_type": "execute_result"
    }
   ],
   "source": [
    "users_per_event = (\n",
    "    logs_filtered\n",
    "    .groupby('event_name')['user_id']\n",
    "    .nunique()\n",
    "    .sort_values(ascending = False)\n",
    "    .reset_index()\n",
    ").rename(columns = {'user_id': 'user_quantity'})\n",
    "\n",
    "users_per_event['proportion'] = (\n",
    "    users_per_event['user_quantity']\n",
    "    / total_users\n",
    ")\n",
    "\n",
    "users_per_event"
   ]
  },
  {
   "cell_type": "markdown",
   "metadata": {},
   "source": [
    "#### Conclusiones sobre cantidad de usuarios/as que realizan una acción.\n",
    "\n",
    "En el total de eventos registrados entre el total de usuarios: Poco más del 98% de los usuarios registrados realizan el primer evento y casi el 47% llegan a la parte de compra. La mayor pérdida se encuentra entre los que están en la pantalla principal y los que van a la pantalla de oferta."
   ]
  },
  {
   "cell_type": "markdown",
   "metadata": {},
   "source": [
    "<div class=\"alert alert-block alert-success\">\n",
    "<b>Comentario de Revisor</b> <a class=\"tocSkip\"></a>\n",
    "\n",
    "Al filtrar por usuarios en lugar de eventos (como en la tabla anterior a este ejercicio) se puede observar una cantidad mucho menor en el total.<br/>\n",
    "Al realizar una comparativa de este estilo el negocio se puede enfocar en mejorar la experiencia del usuario para generar una disminución menor de usuarios en cada una de las etapas\n",
    "\n",
    "\n",
    "</div>"
   ]
  },
  {
   "cell_type": "markdown",
   "metadata": {},
   "source": [
    "### Orden en que ocurrieron las acciones y si son parte de una misma secuencia.\n",
    "\n",
    "El orden aparente sería:\n",
    "   - Pantalla principal.\n",
    "   - Pantalla de descuento.\n",
    "   - Pantalla de carro de compra.\n",
    "   - Pantalla de pago exitoso.\n",
    "   \n",
    "Hay un evento más llamado tutorial que no tengo información suficiente para pensar que es al final de la compra ya que los productos con los que se trabajan con tiene mucho senntido que tengan un tutorial."
   ]
  },
  {
   "cell_type": "markdown",
   "metadata": {},
   "source": [
    "### Embudo: Proporción de usuarios y usuarias que pasan de una etapa a la siguiente."
   ]
  },
  {
   "cell_type": "code",
   "execution_count": 17,
   "metadata": {},
   "outputs": [
    {
     "data": {
      "text/html": [
       "<div>\n",
       "<style scoped>\n",
       "    .dataframe tbody tr th:only-of-type {\n",
       "        vertical-align: middle;\n",
       "    }\n",
       "\n",
       "    .dataframe tbody tr th {\n",
       "        vertical-align: top;\n",
       "    }\n",
       "\n",
       "    .dataframe thead th {\n",
       "        text-align: right;\n",
       "    }\n",
       "</style>\n",
       "<table border=\"1\" class=\"dataframe\">\n",
       "  <thead>\n",
       "    <tr style=\"text-align: right;\">\n",
       "      <th>event_name</th>\n",
       "      <th>CartScreenAppear</th>\n",
       "      <th>MainScreenAppear</th>\n",
       "      <th>OffersScreenAppear</th>\n",
       "      <th>PaymentScreenSuccessful</th>\n",
       "      <th>Tutorial</th>\n",
       "    </tr>\n",
       "    <tr>\n",
       "      <th>user_id</th>\n",
       "      <th></th>\n",
       "      <th></th>\n",
       "      <th></th>\n",
       "      <th></th>\n",
       "      <th></th>\n",
       "    </tr>\n",
       "  </thead>\n",
       "  <tbody>\n",
       "    <tr>\n",
       "      <th>6888746892508752</th>\n",
       "      <td>NaT</td>\n",
       "      <td>2019-08-06 14:06:34</td>\n",
       "      <td>NaT</td>\n",
       "      <td>NaT</td>\n",
       "      <td>NaT</td>\n",
       "    </tr>\n",
       "    <tr>\n",
       "      <th>6909561520679493</th>\n",
       "      <td>2019-08-06 18:52:58</td>\n",
       "      <td>2019-08-06 18:52:54</td>\n",
       "      <td>2019-08-06 18:53:04</td>\n",
       "      <td>2019-08-06 18:52:58</td>\n",
       "      <td>NaT</td>\n",
       "    </tr>\n",
       "  </tbody>\n",
       "</table>\n",
       "</div>"
      ],
      "text/plain": [
       "event_name          CartScreenAppear    MainScreenAppear  OffersScreenAppear  \\\n",
       "user_id                                                                        \n",
       "6888746892508752                 NaT 2019-08-06 14:06:34                 NaT   \n",
       "6909561520679493 2019-08-06 18:52:58 2019-08-06 18:52:54 2019-08-06 18:53:04   \n",
       "\n",
       "event_name       PaymentScreenSuccessful Tutorial  \n",
       "user_id                                            \n",
       "6888746892508752                     NaT      NaT  \n",
       "6909561520679493     2019-08-06 18:52:58      NaT  "
      ]
     },
     "execution_count": 17,
     "metadata": {},
     "output_type": "execute_result"
    }
   ],
   "source": [
    "# Tabla para mostrar el primer evento de cada usuario.\n",
    "users_pivot = logs_filtered.pivot_table(\n",
    "    index = 'user_id',\n",
    "    columns = 'event_name',\n",
    "    values = 'date_hour',\n",
    "    aggfunc = 'min'\n",
    ")\n",
    "\n",
    "users_pivot.head(2)"
   ]
  },
  {
   "cell_type": "code",
   "execution_count": 18,
   "metadata": {},
   "outputs": [
    {
     "data": {
      "text/plain": [
       "event_name\n",
       "CartScreenAppear           3734\n",
       "MainScreenAppear           7419\n",
       "OffersScreenAppear         4593\n",
       "PaymentScreenSuccessful    3539\n",
       "Tutorial                    840\n",
       "dtype: int64"
      ]
     },
     "execution_count": 18,
     "metadata": {},
     "output_type": "execute_result"
    }
   ],
   "source": [
    "users_pivot.count()"
   ]
  },
  {
   "cell_type": "markdown",
   "metadata": {},
   "source": [
    "### Etapa de mayor pérdida de usuarios y usuarias."
   ]
  },
  {
   "cell_type": "code",
   "execution_count": 19,
   "metadata": {},
   "outputs": [
    {
     "name": "stdout",
     "output_type": "stream",
     "text": [
      "Total de usuarios: 7419 y el porcentaje de la etapa previe es: 0.9825188716726262\n",
      "Usuarios que llegaron a la pantalla de ofertas: 4201 y el porcentaje de la etapa previa es: 0.5662488205957676\n",
      "Usuarios que llegaron al carrito de compras: 1767 y el porcentaje de la etapa previa es: 0.42061413949059745\n",
      "Usuarios que llegaron a la pantalla de pago exitoso: 454 y el porcentaje de la etapa previa es: 0.2569326542161856\n",
      "Usuarios que llegaron al tutorial: 1 y el porcentaje de la etapa previa es: 0.0022026431718061676\n",
      "\n",
      "\n",
      "La pérdida de pantalla  a la de  es de: 0.017481128327373807\n",
      "La pérdida de pantalla principal a la de ofertas es de: 0.41627005107685855\n",
      "La pérdida de pantalla de ofertas a la de carrito es de: 0.1456346811051702\n",
      "La pérdida de pantalla de carrito a la de pago es de: 0.16368148527441184\n"
     ]
    }
   ],
   "source": [
    "step_1 = users_pivot[~users_pivot['MainScreenAppear'].isna()]\n",
    "step_2 = step_1[(~step_1['OffersScreenAppear'].isna()) & (step_1['OffersScreenAppear'] > step_1['MainScreenAppear'])]\n",
    "step_3 = step_2[(~step_2['CartScreenAppear'].isna()) & (step_2['CartScreenAppear'] > step_2['OffersScreenAppear'])]\n",
    "step_4 = step_3[(~step_3['PaymentScreenSuccessful'].isna()) & (step_3['PaymentScreenSuccessful'] > step_3['CartScreenAppear'])]\n",
    "step_5 = step_4[(~step_4['Tutorial'].isna()) & (step_4['Tutorial'] > step_4['PaymentScreenSuccessful'])]\n",
    "\n",
    "# Total de usuarios que pasaron a una etapa realizaando la etapa previa.\n",
    "n_main_screen = step_1.shape[0]\n",
    "n_offers_screen = step_2.shape[0]\n",
    "n_cart_screen = step_3.shape[0]\n",
    "n_pay_screen = step_4.shape[0]\n",
    "n_tutorial = step_5.shape[0]\n",
    "\n",
    "# Porcentaje de usuarios que pasan a la siguiente etapa\n",
    "p_main_screen = n_main_screen / total_users\n",
    "p_offers_screen = n_offers_screen / n_main_screen\n",
    "p_cart_screen = n_cart_screen / n_offers_screen\n",
    "p_pay_screen = n_pay_screen / n_cart_screen\n",
    "p_tutorial = n_tutorial / n_pay_screen\n",
    "\n",
    "print(f'Total de usuarios: {n_main_screen} y el porcentaje de la etapa previe es: {p_main_screen}')\n",
    "print(f'Usuarios que llegaron a la pantalla de ofertas: {n_offers_screen} y el porcentaje de la etapa previa es: {p_offers_screen}')\n",
    "print(f'Usuarios que llegaron al carrito de compras: {n_cart_screen} y el porcentaje de la etapa previa es: {p_cart_screen}')\n",
    "print(f'Usuarios que llegaron a la pantalla de pago exitoso: {n_pay_screen} y el porcentaje de la etapa previa es: {p_pay_screen}')\n",
    "print(f'Usuarios que llegaron al tutorial: {n_tutorial} y el porcentaje de la etapa previa es: {p_tutorial}')\n",
    "print(\"\"\"\n",
    "\"\"\")\n",
    "print(f'La pérdida de pantalla  a la de  es de: {1 - p_main_screen}')\n",
    "print(f'La pérdida de pantalla principal a la de ofertas es de: {p_main_screen - p_offers_screen}')\n",
    "print(f'La pérdida de pantalla de ofertas a la de carrito es de: {p_offers_screen - p_cart_screen}')\n",
    "print(f'La pérdida de pantalla de carrito a la de pago es de: {p_cart_screen - p_pay_screen}')\n",
    "\n"
   ]
  },
  {
   "cell_type": "markdown",
   "metadata": {},
   "source": [
    "La etapa en la que la mayor cantidad de usuarios se pierden es en el paso de la pantnalla principal a la pantalla de oferta con un casi 42% de pérdida."
   ]
  },
  {
   "cell_type": "markdown",
   "metadata": {},
   "source": [
    "### Porcentaje de usuarios y usuarias que hacen todo el recorrido.\n",
    "\n",
    "Tomando en cuenta que el tutorial no es parte del recorrido, un 25% de los usuarios realizan todo el recorrido."
   ]
  },
  {
   "cell_type": "markdown",
   "metadata": {},
   "source": [
    "## Estudio de resultados del experimento."
   ]
  },
  {
   "cell_type": "markdown",
   "metadata": {},
   "source": [
    "### Cantidad de usuarios y usuarias en cada grupo."
   ]
  },
  {
   "cell_type": "code",
   "execution_count": 20,
   "metadata": {},
   "outputs": [
    {
     "name": "stdout",
     "output_type": "stream",
     "text": [
      "El total de usuarios en el grupo 246 es: 80181 y los usuarios únicos son: 2489\n",
      "El total de usuarios en el grupo 247 es: 77950 y los usuarios únicos son: 2520\n",
      "El total de usuarios en el grupo 248 es: 85582 y los usuarios únicos son: 2542\n"
     ]
    }
   ],
   "source": [
    "total_users_group_246 = group_246['user_id'].shape[0] \n",
    "total_users_group_247 = group_247['user_id'].shape[0]\n",
    "total_users_group_248 = group_248['user_id'].shape[0]\n",
    "\n",
    "unique_group_246_users = group_246[group_246['exp_id'] == 246]['user_id'].nunique()\n",
    "unique_group_247_users = group_247[group_247['exp_id'] == 247]['user_id'].nunique()\n",
    "unique_group_248_users = group_248[group_248['exp_id'] == 248]['user_id'].nunique()\n",
    "\n",
    "print(f'El total de usuarios en el grupo 246 es: {total_users_group_246} y los usuarios únicos son: {unique_group_246_users}')\n",
    "print(f'El total de usuarios en el grupo 247 es: {total_users_group_247} y los usuarios únicos son: {unique_group_247_users}')\n",
    "print(f'El total de usuarios en el grupo 248 es: {total_users_group_248} y los usuarios únicos son: {unique_group_248_users}')\n"
   ]
  },
  {
   "cell_type": "markdown",
   "metadata": {},
   "source": [
    "<div class=\"alert alert-block alert-success\">\n",
    "<b>Comentario de Revisor</b> <a class=\"tocSkip\"></a>\n",
    "\n",
    "Buena manera de crear y ordenar a los usuarios en sus grupos.<br/>\n",
    "\n",
    "</div>"
   ]
  },
  {
   "cell_type": "markdown",
   "metadata": {},
   "source": [
    "### Comprobación de diferencia significativa entre los grupos A/A (246 y 247)."
   ]
  },
  {
   "cell_type": "code",
   "execution_count": 21,
   "metadata": {},
   "outputs": [
    {
     "name": "stdout",
     "output_type": "stream",
     "text": [
      "Estadístico t con el total de usuarios en los grupos 246 y 247: 1.0\n",
      "Valor p con el total de usuarios en los grupos 246 y 247: 1.0\n",
      "Estadístico t con los usuarios únicos en los grupos 246 y 247 es: 0.0\n",
      "Valor p con los usuarios únicos en los grupos 246 y 247 es: 1.0\n"
     ]
    }
   ],
   "source": [
    "t_stat, p_value = mannwhitneyu(total_users_group_246, total_users_group_247, alternative = 'two-sided')\n",
    "\n",
    "print(f'Estadístico t con el total de usuarios en los grupos 246 y 247: {t_stat}')\n",
    "print(f'Valor p con el total de usuarios en los grupos 246 y 247: {p_value}')\n",
    "\n",
    "t_stat, p_value = mannwhitneyu(unique_group_246_users, unique_group_247_users, alternative='two-sided')\n",
    "\n",
    "print(f'Estadístico t con los usuarios únicos en los grupos 246 y 247 es: {t_stat}')\n",
    "print(f'Valor p con los usuarios únicos en los grupos 246 y 247 es: {p_value}')"
   ]
  },
  {
   "cell_type": "markdown",
   "metadata": {},
   "source": [
    "#### Conclusiones de la ddiferencia significativa.\n",
    "\n",
    "Tanto en las pruebas mannwhitneyu para el total de eventos registrados como para usuarios únicos obtuvimos que no hay una diferencia significativa entre los grupos. De hecho, el valor p igual a 1.0 nos indica que las pruebas son practicamente iguales"
   ]
  },
  {
   "cell_type": "markdown",
   "metadata": {},
   "source": [
    "<div class=\"alert alert-block alert-success\">\n",
    "<b>Comentario de Revisor</b> <a class=\"tocSkip\"></a>\n",
    "\n",
    "Correcto, buena manera de realizar la prueba y de llegar a las conclusiones.<br/>\n",
    "\n",
    "</div>"
   ]
  },
  {
   "cell_type": "markdown",
   "metadata": {},
   "source": [
    "### Diferencia significativa por evento."
   ]
  },
  {
   "cell_type": "code",
   "execution_count": 22,
   "metadata": {
    "scrolled": false
   },
   "outputs": [
    {
     "data": {
      "text/html": [
       "<div>\n",
       "<style scoped>\n",
       "    .dataframe tbody tr th:only-of-type {\n",
       "        vertical-align: middle;\n",
       "    }\n",
       "\n",
       "    .dataframe tbody tr th {\n",
       "        vertical-align: top;\n",
       "    }\n",
       "\n",
       "    .dataframe thead th {\n",
       "        text-align: right;\n",
       "    }\n",
       "</style>\n",
       "<table border=\"1\" class=\"dataframe\">\n",
       "  <thead>\n",
       "    <tr style=\"text-align: right;\">\n",
       "      <th></th>\n",
       "      <th>event_name</th>\n",
       "      <th>total_users</th>\n",
       "      <th>proportion</th>\n",
       "    </tr>\n",
       "  </thead>\n",
       "  <tbody>\n",
       "    <tr>\n",
       "      <th>1</th>\n",
       "      <td>MainScreenAppear</td>\n",
       "      <td>2450</td>\n",
       "      <td>0.984331</td>\n",
       "    </tr>\n",
       "    <tr>\n",
       "      <th>2</th>\n",
       "      <td>OffersScreenAppear</td>\n",
       "      <td>1542</td>\n",
       "      <td>0.619526</td>\n",
       "    </tr>\n",
       "  </tbody>\n",
       "</table>\n",
       "</div>"
      ],
      "text/plain": [
       "           event_name  total_users  proportion\n",
       "1    MainScreenAppear         2450    0.984331\n",
       "2  OffersScreenAppear         1542    0.619526"
      ]
     },
     "metadata": {},
     "output_type": "display_data"
    },
    {
     "data": {
      "text/html": [
       "<div>\n",
       "<style scoped>\n",
       "    .dataframe tbody tr th:only-of-type {\n",
       "        vertical-align: middle;\n",
       "    }\n",
       "\n",
       "    .dataframe tbody tr th {\n",
       "        vertical-align: top;\n",
       "    }\n",
       "\n",
       "    .dataframe thead th {\n",
       "        text-align: right;\n",
       "    }\n",
       "</style>\n",
       "<table border=\"1\" class=\"dataframe\">\n",
       "  <thead>\n",
       "    <tr style=\"text-align: right;\">\n",
       "      <th></th>\n",
       "      <th>event_name</th>\n",
       "      <th>total_users</th>\n",
       "      <th>proportion</th>\n",
       "    </tr>\n",
       "  </thead>\n",
       "  <tbody>\n",
       "    <tr>\n",
       "      <th>1</th>\n",
       "      <td>MainScreenAppear</td>\n",
       "      <td>2476</td>\n",
       "      <td>0.982540</td>\n",
       "    </tr>\n",
       "    <tr>\n",
       "      <th>2</th>\n",
       "      <td>OffersScreenAppear</td>\n",
       "      <td>1520</td>\n",
       "      <td>0.603175</td>\n",
       "    </tr>\n",
       "  </tbody>\n",
       "</table>\n",
       "</div>"
      ],
      "text/plain": [
       "           event_name  total_users  proportion\n",
       "1    MainScreenAppear         2476    0.982540\n",
       "2  OffersScreenAppear         1520    0.603175"
      ]
     },
     "metadata": {},
     "output_type": "display_data"
    },
    {
     "data": {
      "text/html": [
       "<div>\n",
       "<style scoped>\n",
       "    .dataframe tbody tr th:only-of-type {\n",
       "        vertical-align: middle;\n",
       "    }\n",
       "\n",
       "    .dataframe tbody tr th {\n",
       "        vertical-align: top;\n",
       "    }\n",
       "\n",
       "    .dataframe thead th {\n",
       "        text-align: right;\n",
       "    }\n",
       "</style>\n",
       "<table border=\"1\" class=\"dataframe\">\n",
       "  <thead>\n",
       "    <tr style=\"text-align: right;\">\n",
       "      <th></th>\n",
       "      <th>event_name</th>\n",
       "      <th>total_users</th>\n",
       "      <th>proportion</th>\n",
       "    </tr>\n",
       "  </thead>\n",
       "  <tbody>\n",
       "    <tr>\n",
       "      <th>1</th>\n",
       "      <td>MainScreenAppear</td>\n",
       "      <td>2493</td>\n",
       "      <td>0.980724</td>\n",
       "    </tr>\n",
       "    <tr>\n",
       "      <th>2</th>\n",
       "      <td>OffersScreenAppear</td>\n",
       "      <td>1531</td>\n",
       "      <td>0.602282</td>\n",
       "    </tr>\n",
       "  </tbody>\n",
       "</table>\n",
       "</div>"
      ],
      "text/plain": [
       "           event_name  total_users  proportion\n",
       "1    MainScreenAppear         2493    0.980724\n",
       "2  OffersScreenAppear         1531    0.602282"
      ]
     },
     "metadata": {},
     "output_type": "display_data"
    }
   ],
   "source": [
    "# Función para agrupar los df por nombre del evento y el total de usuarios únicos.\n",
    "def event_proportion(df, exp_id, unique_group_users):\n",
    "    grouped_df = (\n",
    "        df.loc[df['exp_id'] == exp_id]\n",
    "        .groupby('event_name')['user_id']\n",
    "        .nunique()\n",
    "        .reset_index()\n",
    "    ).rename(columns = {'user_id': 'total_users'})\n",
    "\n",
    "    grouped_df['proportion'] = grouped_df['total_users'] / unique_group_users\n",
    "    \n",
    "    grouped_df = grouped_df.sort_values(by = 'total_users', ascending = False)\n",
    "\n",
    "    return grouped_df\n",
    "\n",
    "event_users_proportion_246 = event_proportion(logs_filtered, 246, unique_group_246_users)\n",
    "event_users_proportion_247 = event_proportion(logs_filtered, 247, unique_group_247_users)\n",
    "event_users_proportion_248 = event_proportion(logs_filtered, 248, unique_group_248_users)\n",
    "\n",
    "display(event_users_proportion_246.head(2))\n",
    "display(event_users_proportion_247.head(2))\n",
    "display(event_users_proportion_248.head(2))"
   ]
  },
  {
   "cell_type": "markdown",
   "metadata": {},
   "source": [
    "<div class=\"alert alert-block alert-success\">\n",
    "<b>Comentario de Revisor</b> <a class=\"tocSkip\"></a>\n",
    "\n",
    "Se observa que los tres grupos son muy parecidos.<br/>\n",
    "\n",
    "</div>"
   ]
  },
  {
   "cell_type": "code",
   "execution_count": 23,
   "metadata": {},
   "outputs": [
    {
     "data": {
      "text/html": [
       "<div>\n",
       "<style scoped>\n",
       "    .dataframe tbody tr th:only-of-type {\n",
       "        vertical-align: middle;\n",
       "    }\n",
       "\n",
       "    .dataframe tbody tr th {\n",
       "        vertical-align: top;\n",
       "    }\n",
       "\n",
       "    .dataframe thead th {\n",
       "        text-align: right;\n",
       "    }\n",
       "</style>\n",
       "<table border=\"1\" class=\"dataframe\">\n",
       "  <thead>\n",
       "    <tr style=\"text-align: right;\">\n",
       "      <th></th>\n",
       "      <th>event_name</th>\n",
       "      <th>p_value_users</th>\n",
       "      <th>p_value_proportions</th>\n",
       "      <th>Significancia usuarios</th>\n",
       "      <th>Significancia porporciones</th>\n",
       "    </tr>\n",
       "  </thead>\n",
       "  <tbody>\n",
       "    <tr>\n",
       "      <th>0</th>\n",
       "      <td>PaymentScreenSuccessful</td>\n",
       "      <td>1.0</td>\n",
       "      <td>1.0</td>\n",
       "      <td>No</td>\n",
       "      <td>No</td>\n",
       "    </tr>\n",
       "    <tr>\n",
       "      <th>1</th>\n",
       "      <td>Tutorial</td>\n",
       "      <td>1.0</td>\n",
       "      <td>1.0</td>\n",
       "      <td>No</td>\n",
       "      <td>No</td>\n",
       "    </tr>\n",
       "    <tr>\n",
       "      <th>2</th>\n",
       "      <td>OffersScreenAppear</td>\n",
       "      <td>1.0</td>\n",
       "      <td>1.0</td>\n",
       "      <td>No</td>\n",
       "      <td>No</td>\n",
       "    </tr>\n",
       "    <tr>\n",
       "      <th>3</th>\n",
       "      <td>CartScreenAppear</td>\n",
       "      <td>1.0</td>\n",
       "      <td>1.0</td>\n",
       "      <td>No</td>\n",
       "      <td>No</td>\n",
       "    </tr>\n",
       "    <tr>\n",
       "      <th>4</th>\n",
       "      <td>MainScreenAppear</td>\n",
       "      <td>1.0</td>\n",
       "      <td>1.0</td>\n",
       "      <td>No</td>\n",
       "      <td>No</td>\n",
       "    </tr>\n",
       "  </tbody>\n",
       "</table>\n",
       "</div>"
      ],
      "text/plain": [
       "                event_name  p_value_users  p_value_proportions  \\\n",
       "0  PaymentScreenSuccessful            1.0                  1.0   \n",
       "1                 Tutorial            1.0                  1.0   \n",
       "2       OffersScreenAppear            1.0                  1.0   \n",
       "3         CartScreenAppear            1.0                  1.0   \n",
       "4         MainScreenAppear            1.0                  1.0   \n",
       "\n",
       "  Significancia usuarios Significancia porporciones  \n",
       "0                     No                         No  \n",
       "1                     No                         No  \n",
       "2                     No                         No  \n",
       "3                     No                         No  \n",
       "4                     No                         No  "
      ]
     },
     "metadata": {},
     "output_type": "display_data"
    }
   ],
   "source": [
    "\n",
    "alpha = 0.05\n",
    "# Función para mostrar si hay o no significancia estadística.\n",
    "# Tomamos dos datasets con los eventos como parámetros.\n",
    "def test_event_significance(df1, df2):\n",
    "    # Unimos los datasets\n",
    "    common_events = set(df1['event_name']).intersection(set(df2['event_name']))\n",
    "    \n",
    "    # Lista para almacenar los resultados del bucle\n",
    "    results = []\n",
    "    \n",
    "    for event_name in common_events:\n",
    "        event_1 = df1[df1['event_name'] == event_name]\n",
    "        event_2 = df2[df2['event_name'] == event_name]\n",
    "        \n",
    "        # Dentro del bucle realizamos las pruebas estadísticas para nuestros datos\n",
    "        \n",
    "        _, p_value_users = mannwhitneyu(event_1['total_users'], event_2['total_users'])\n",
    "        _, p_value_proportion = mannwhitneyu(event_1['proportion'], event_2['proportion'])\n",
    "        \n",
    "        # Agregar resultados a la lista\n",
    "        results.append({\n",
    "            'event_name': event_name,\n",
    "            'p_value_users': p_value_users,\n",
    "            'p_value_proportions': p_value_proportion,\n",
    "            'Significancia usuarios': 'Sí' if p_value_users < alpha else 'No',\n",
    "            'Significancia porporciones': 'Sí' if p_value_proportion < alpha else 'No'\n",
    "        })\n",
    "        \n",
    "        results_df = pd.DataFrame(results)\n",
    "        \n",
    "    return results_df\n",
    "    \n",
    "results_AA = test_event_significance(event_users_proportion_246, event_users_proportion_247)\n",
    "display(results_AA)   "
   ]
  },
  {
   "cell_type": "markdown",
   "metadata": {},
   "source": [
    "### Comparación de resultados con el grupo de fuentes alteradas."
   ]
  },
  {
   "cell_type": "code",
   "execution_count": 24,
   "metadata": {},
   "outputs": [
    {
     "data": {
      "text/html": [
       "<div>\n",
       "<style scoped>\n",
       "    .dataframe tbody tr th:only-of-type {\n",
       "        vertical-align: middle;\n",
       "    }\n",
       "\n",
       "    .dataframe tbody tr th {\n",
       "        vertical-align: top;\n",
       "    }\n",
       "\n",
       "    .dataframe thead th {\n",
       "        text-align: right;\n",
       "    }\n",
       "</style>\n",
       "<table border=\"1\" class=\"dataframe\">\n",
       "  <thead>\n",
       "    <tr style=\"text-align: right;\">\n",
       "      <th></th>\n",
       "      <th>event_name</th>\n",
       "      <th>p_value_users</th>\n",
       "      <th>p_value_proportions</th>\n",
       "      <th>Significancia usuarios</th>\n",
       "      <th>Significancia porporciones</th>\n",
       "    </tr>\n",
       "  </thead>\n",
       "  <tbody>\n",
       "    <tr>\n",
       "      <th>0</th>\n",
       "      <td>PaymentScreenSuccessful</td>\n",
       "      <td>1.0</td>\n",
       "      <td>1.0</td>\n",
       "      <td>No</td>\n",
       "      <td>No</td>\n",
       "    </tr>\n",
       "    <tr>\n",
       "      <th>1</th>\n",
       "      <td>Tutorial</td>\n",
       "      <td>1.0</td>\n",
       "      <td>1.0</td>\n",
       "      <td>No</td>\n",
       "      <td>No</td>\n",
       "    </tr>\n",
       "    <tr>\n",
       "      <th>2</th>\n",
       "      <td>OffersScreenAppear</td>\n",
       "      <td>1.0</td>\n",
       "      <td>1.0</td>\n",
       "      <td>No</td>\n",
       "      <td>No</td>\n",
       "    </tr>\n",
       "    <tr>\n",
       "      <th>3</th>\n",
       "      <td>CartScreenAppear</td>\n",
       "      <td>1.0</td>\n",
       "      <td>1.0</td>\n",
       "      <td>No</td>\n",
       "      <td>No</td>\n",
       "    </tr>\n",
       "    <tr>\n",
       "      <th>4</th>\n",
       "      <td>MainScreenAppear</td>\n",
       "      <td>1.0</td>\n",
       "      <td>1.0</td>\n",
       "      <td>No</td>\n",
       "      <td>No</td>\n",
       "    </tr>\n",
       "  </tbody>\n",
       "</table>\n",
       "</div>"
      ],
      "text/plain": [
       "                event_name  p_value_users  p_value_proportions  \\\n",
       "0  PaymentScreenSuccessful            1.0                  1.0   \n",
       "1                 Tutorial            1.0                  1.0   \n",
       "2       OffersScreenAppear            1.0                  1.0   \n",
       "3         CartScreenAppear            1.0                  1.0   \n",
       "4         MainScreenAppear            1.0                  1.0   \n",
       "\n",
       "  Significancia usuarios Significancia porporciones  \n",
       "0                     No                         No  \n",
       "1                     No                         No  \n",
       "2                     No                         No  \n",
       "3                     No                         No  \n",
       "4                     No                         No  "
      ]
     },
     "metadata": {},
     "output_type": "display_data"
    }
   ],
   "source": [
    "results_AB = test_event_significance(event_users_proportion_246, event_users_proportion_248)\n",
    "display(results_AB)"
   ]
  },
  {
   "cell_type": "markdown",
   "metadata": {},
   "source": [
    "#### Conclusiones nivel de significancia.\n",
    "\n",
    "En el análisis con la prueba Mann-Whitney U no parece encontrarse algún tipo de indicio de que los grupos tengan algún tipo de significancia estádistica en cuanto a la cantidad por grupo y las proporciones."
   ]
  },
  {
   "cell_type": "markdown",
   "metadata": {},
   "source": [
    "## Conclusiones Generales.\n",
    "\n",
    "- El data set fue tratado modificando el nombre de las columnas para que fueran \"user_name, device_id, date y exp_id\" de esta forma sería más entendible para mí que los nombres previos. También fue agregada una nueva columan llamada \"date_hour\" ya que el formato anterior no era comprensible y pasó de \"1564029816\" a \"2019-07-25 04:43:36\" así como una que solo contiene la fecha llamada \"date\". Como último tratamiento, se eliminaron las filas repetidas. Con esto realizado se prosiguió con el estudio  y comprobación de datos.\n",
    "\n",
    "- El dataset abarca desde el 25 de julio de 2019 hasta el 7 de agosto de 2019. Aún así, los datos comienzan a ser consistentes a partir del primero de agosto que será la fecha a partir de la cuál se realizarán los anáisis.\n",
    "- En el filtrado de datos se eliminaron 2826 datos que corresponden al 1.160% del total de los datos. Una vez que se eliminaron estos datos se comprobó que en los 3 grupos que se tienen del experimento hay datos para poder trabajar con ellos.\n",
    "- Una vez que la tabla se filtró para quedarnos solo con las fechas con mayor relevancia, se procedio a realizar los embudos de eventos que se tienen registrados en el df.\n",
    "    - Se detectó que el orden en que se realizan las acciones es el siguiente:\n",
    "        - Aparece pantalla pricipal (98% de los usuarios llegan aquí).\n",
    "        - Aparece pantalla de ofertas (56% de los usuarios llegan aquí).\n",
    "        - Aparece pantalla de carrito de compras (42% de los usuarios llegan aquí).\n",
    "        - Aparece pantalla de payo exitoso (25% de los usuarios llegan aquí).\n",
    "    - También hay un tutorial que puede ser para otro tipo de procesos dada la naturaleza de la empresa.\n",
    "    \n",
    "- Para el estudio de resultados del experimento encontramos que:\n",
    "    - Los grupos en los que se realizó la prueba A/A son prácticamente idénticos.\n",
    "    - En las pruebas de significancia no se arrojo algún resultado que nos haga pensar que los grupos son diferentes sifnificativamente."
   ]
  },
  {
   "cell_type": "markdown",
   "metadata": {},
   "source": [
    "<div class=\"alert alert-block alert-success\">\n",
    "<b>Comentario del revisor</b> <a class=\"tocSkip\"></a><br />\n",
    "Has realizado un buen trabajo, me doy cuenta de que has aplicado los conocimientos que has adquirido durante el curso, los procedimientos realizados son correctos.<br/>\n",
    "Te felicito por la limpieza en tu código, es muy fácil de entender y las variables que usas tienen nombres significativos.<br/>   \n",
    "Las decisiones que tomas a lo largo del proyecto me parecen acertadas y te hacen ir por un buen camino, lo que termina en un analisis bastante acertado.    \n",
    "<br/>\n",
    "Las conclusiones finales a las que llegas estan respaldadas con los procedimientos que has realizado a lo largo del proyecto, me parecen bastante acertadas y el lenguaje que usas es adecuado para que cualquier persona las pueda entender.<br/>    \n",
    "Continúa con el buen trabajo y mucho éxito en el siguiente Sprint!\n",
    "</div>\n"
   ]
  }
 ],
 "metadata": {
  "ExecuteTimeLog": [
   {
    "duration": 2612,
    "start_time": "2024-09-09T16:10:48.472Z"
   },
   {
    "duration": 227,
    "start_time": "2024-09-09T16:36:14.792Z"
   },
   {
    "duration": 198,
    "start_time": "2024-09-09T16:37:57.435Z"
   },
   {
    "duration": 5,
    "start_time": "2024-09-09T16:38:24.156Z"
   },
   {
    "duration": 4,
    "start_time": "2024-09-09T16:38:42.817Z"
   },
   {
    "duration": 179,
    "start_time": "2024-09-09T16:38:49.940Z"
   },
   {
    "duration": 96,
    "start_time": "2024-09-09T16:39:03.775Z"
   },
   {
    "duration": 72,
    "start_time": "2024-09-09T16:42:10.408Z"
   },
   {
    "duration": 3,
    "start_time": "2024-09-09T17:02:42.769Z"
   },
   {
    "duration": 55,
    "start_time": "2024-09-09T17:03:55.118Z"
   },
   {
    "duration": 84,
    "start_time": "2024-09-09T17:04:20.023Z"
   },
   {
    "duration": 54,
    "start_time": "2024-09-09T17:05:21.334Z"
   },
   {
    "duration": 68,
    "start_time": "2024-09-09T17:06:35.744Z"
   },
   {
    "duration": 59,
    "start_time": "2024-09-09T17:09:46.228Z"
   },
   {
    "duration": 6,
    "start_time": "2024-09-09T17:11:50.385Z"
   },
   {
    "duration": 80,
    "start_time": "2024-09-09T17:13:53.472Z"
   },
   {
    "duration": 3,
    "start_time": "2024-09-09T17:16:12.592Z"
   },
   {
    "duration": 53,
    "start_time": "2024-09-09T17:16:51.864Z"
   },
   {
    "duration": 58,
    "start_time": "2024-09-09T17:16:56.378Z"
   },
   {
    "duration": 797,
    "start_time": "2024-09-09T17:17:09.810Z"
   },
   {
    "duration": 106,
    "start_time": "2024-09-09T17:17:10.609Z"
   },
   {
    "duration": 81,
    "start_time": "2024-09-09T17:17:10.717Z"
   },
   {
    "duration": 57,
    "start_time": "2024-09-09T17:17:10.800Z"
   },
   {
    "duration": 5,
    "start_time": "2024-09-09T17:17:10.871Z"
   },
   {
    "duration": 3,
    "start_time": "2024-09-09T17:17:10.878Z"
   },
   {
    "duration": 7,
    "start_time": "2024-09-09T17:18:04.798Z"
   },
   {
    "duration": 5,
    "start_time": "2024-09-09T17:19:40.118Z"
   },
   {
    "duration": 2,
    "start_time": "2024-09-09T17:19:49.174Z"
   },
   {
    "duration": 6,
    "start_time": "2024-09-09T17:19:50.944Z"
   },
   {
    "duration": 2,
    "start_time": "2024-09-09T17:20:41.234Z"
   },
   {
    "duration": 3,
    "start_time": "2024-09-09T17:21:12.756Z"
   },
   {
    "duration": 5,
    "start_time": "2024-09-09T17:33:28.937Z"
   },
   {
    "duration": 714,
    "start_time": "2024-09-09T17:33:33.709Z"
   },
   {
    "duration": 87,
    "start_time": "2024-09-09T17:33:44.891Z"
   },
   {
    "duration": 824,
    "start_time": "2024-09-09T17:34:05.300Z"
   },
   {
    "duration": 112,
    "start_time": "2024-09-09T17:34:06.126Z"
   },
   {
    "duration": 73,
    "start_time": "2024-09-09T17:34:06.240Z"
   },
   {
    "duration": 74,
    "start_time": "2024-09-09T17:34:06.316Z"
   },
   {
    "duration": 7,
    "start_time": "2024-09-09T17:34:06.391Z"
   },
   {
    "duration": 3,
    "start_time": "2024-09-09T17:34:06.399Z"
   },
   {
    "duration": 6,
    "start_time": "2024-09-09T17:34:06.404Z"
   },
   {
    "duration": 2,
    "start_time": "2024-09-09T17:34:06.413Z"
   },
   {
    "duration": 526,
    "start_time": "2024-09-09T17:34:54.414Z"
   },
   {
    "duration": 127,
    "start_time": "2024-09-09T17:36:49.447Z"
   },
   {
    "duration": 90,
    "start_time": "2024-09-09T17:37:46.488Z"
   },
   {
    "duration": 161,
    "start_time": "2024-09-09T17:38:07.844Z"
   },
   {
    "duration": 859,
    "start_time": "2024-09-09T17:38:13.643Z"
   },
   {
    "duration": 100,
    "start_time": "2024-09-09T17:38:14.573Z"
   },
   {
    "duration": 67,
    "start_time": "2024-09-09T17:38:16.364Z"
   },
   {
    "duration": 77,
    "start_time": "2024-09-09T17:38:21.449Z"
   },
   {
    "duration": 60,
    "start_time": "2024-09-09T17:39:23.675Z"
   },
   {
    "duration": 98,
    "start_time": "2024-09-09T17:42:06.613Z"
   },
   {
    "duration": 18,
    "start_time": "2024-09-09T17:45:26.525Z"
   },
   {
    "duration": 24,
    "start_time": "2024-09-09T17:45:52.075Z"
   },
   {
    "duration": 23,
    "start_time": "2024-09-09T17:46:19.557Z"
   },
   {
    "duration": 21,
    "start_time": "2024-09-09T17:47:51.381Z"
   },
   {
    "duration": 896,
    "start_time": "2024-09-09T17:50:14.270Z"
   },
   {
    "duration": 911,
    "start_time": "2024-09-09T17:52:06.192Z"
   },
   {
    "duration": 1026,
    "start_time": "2024-09-09T17:52:15.470Z"
   },
   {
    "duration": 75,
    "start_time": "2024-09-09T17:53:02.058Z"
   },
   {
    "duration": 930,
    "start_time": "2024-09-09T17:53:43.029Z"
   },
   {
    "duration": 925,
    "start_time": "2024-09-09T17:53:58.705Z"
   },
   {
    "duration": 208,
    "start_time": "2024-09-09T18:15:48.245Z"
   },
   {
    "duration": 3,
    "start_time": "2024-09-09T18:16:00.996Z"
   },
   {
    "duration": 37,
    "start_time": "2024-09-09T18:16:04.299Z"
   },
   {
    "duration": 32,
    "start_time": "2024-09-09T18:22:54.115Z"
   },
   {
    "duration": 29,
    "start_time": "2024-09-09T18:23:46.604Z"
   },
   {
    "duration": 29,
    "start_time": "2024-09-09T18:27:16.069Z"
   },
   {
    "duration": 31,
    "start_time": "2024-09-09T18:28:37.069Z"
   },
   {
    "duration": 29,
    "start_time": "2024-09-09T18:28:54.380Z"
   },
   {
    "duration": 5,
    "start_time": "2024-09-09T18:29:34.420Z"
   },
   {
    "duration": 2,
    "start_time": "2024-09-09T18:29:38.949Z"
   },
   {
    "duration": 98,
    "start_time": "2024-09-09T18:29:38.953Z"
   },
   {
    "duration": 65,
    "start_time": "2024-09-09T18:29:39.053Z"
   },
   {
    "duration": 102,
    "start_time": "2024-09-09T18:29:39.120Z"
   },
   {
    "duration": 7,
    "start_time": "2024-09-09T18:29:39.224Z"
   },
   {
    "duration": 3,
    "start_time": "2024-09-09T18:29:39.232Z"
   },
   {
    "duration": 5,
    "start_time": "2024-09-09T18:29:39.239Z"
   },
   {
    "duration": 23,
    "start_time": "2024-09-09T18:29:39.247Z"
   },
   {
    "duration": 22,
    "start_time": "2024-09-09T18:29:39.272Z"
   },
   {
    "duration": 940,
    "start_time": "2024-09-09T18:29:39.295Z"
   },
   {
    "duration": 38,
    "start_time": "2024-09-09T18:29:40.237Z"
   },
   {
    "duration": 3,
    "start_time": "2024-09-09T18:30:20.422Z"
   },
   {
    "duration": 26,
    "start_time": "2024-09-09T18:48:30.136Z"
   },
   {
    "duration": 27,
    "start_time": "2024-09-09T18:51:07.722Z"
   },
   {
    "duration": 5,
    "start_time": "2024-09-09T18:52:58.142Z"
   },
   {
    "duration": 5,
    "start_time": "2024-09-09T18:55:33.945Z"
   },
   {
    "duration": 23,
    "start_time": "2024-09-09T18:57:01.185Z"
   },
   {
    "duration": 26,
    "start_time": "2024-09-09T18:57:48.002Z"
   },
   {
    "duration": 116,
    "start_time": "2024-09-09T19:03:05.618Z"
   },
   {
    "duration": 15,
    "start_time": "2024-09-09T19:03:20.651Z"
   },
   {
    "duration": 15,
    "start_time": "2024-09-09T19:05:34.572Z"
   },
   {
    "duration": 7,
    "start_time": "2024-09-09T19:08:11.746Z"
   },
   {
    "duration": 7,
    "start_time": "2024-09-09T19:08:16.055Z"
   },
   {
    "duration": 23,
    "start_time": "2024-09-09T19:09:36.047Z"
   },
   {
    "duration": 27,
    "start_time": "2024-09-09T19:09:59.765Z"
   },
   {
    "duration": 27,
    "start_time": "2024-09-09T19:10:05.584Z"
   },
   {
    "duration": 21,
    "start_time": "2024-09-09T19:10:30.668Z"
   },
   {
    "duration": 20,
    "start_time": "2024-09-09T19:11:24.407Z"
   },
   {
    "duration": 22,
    "start_time": "2024-09-09T19:12:29.983Z"
   },
   {
    "duration": 2497,
    "start_time": "2024-09-09T22:38:09.551Z"
   },
   {
    "duration": 146,
    "start_time": "2024-09-09T22:38:12.051Z"
   },
   {
    "duration": 71,
    "start_time": "2024-09-09T22:38:12.199Z"
   },
   {
    "duration": 112,
    "start_time": "2024-09-09T22:38:12.273Z"
   },
   {
    "duration": 6,
    "start_time": "2024-09-09T22:38:12.387Z"
   },
   {
    "duration": 14,
    "start_time": "2024-09-09T22:38:12.395Z"
   },
   {
    "duration": 6,
    "start_time": "2024-09-09T22:38:12.411Z"
   },
   {
    "duration": 3,
    "start_time": "2024-09-09T22:38:12.419Z"
   },
   {
    "duration": 22,
    "start_time": "2024-09-09T22:38:12.423Z"
   },
   {
    "duration": 1045,
    "start_time": "2024-09-09T22:38:12.448Z"
   },
   {
    "duration": 33,
    "start_time": "2024-09-09T22:38:13.496Z"
   },
   {
    "duration": 26,
    "start_time": "2024-09-09T22:38:13.531Z"
   },
   {
    "duration": 290,
    "start_time": "2024-09-09T22:38:13.560Z"
   },
   {
    "duration": 0,
    "start_time": "2024-09-09T22:38:13.851Z"
   },
   {
    "duration": 0,
    "start_time": "2024-09-09T22:38:13.852Z"
   },
   {
    "duration": 16,
    "start_time": "2024-09-09T22:38:42.846Z"
   },
   {
    "duration": 9,
    "start_time": "2024-09-09T22:38:49.071Z"
   },
   {
    "duration": 21,
    "start_time": "2024-09-09T22:38:54.131Z"
   },
   {
    "duration": 7,
    "start_time": "2024-09-09T22:41:07.908Z"
   },
   {
    "duration": 33,
    "start_time": "2024-09-09T22:41:13.381Z"
   },
   {
    "duration": 39,
    "start_time": "2024-09-09T22:42:52.451Z"
   },
   {
    "duration": 4,
    "start_time": "2024-09-09T22:44:09.919Z"
   },
   {
    "duration": 45,
    "start_time": "2024-09-09T22:44:12.228Z"
   },
   {
    "duration": 43,
    "start_time": "2024-09-09T22:47:31.602Z"
   },
   {
    "duration": 47,
    "start_time": "2024-09-09T23:16:29.836Z"
   },
   {
    "duration": 47,
    "start_time": "2024-09-09T23:20:28.504Z"
   },
   {
    "duration": 47,
    "start_time": "2024-09-09T23:24:03.985Z"
   },
   {
    "duration": 802,
    "start_time": "2024-09-09T23:24:12.213Z"
   },
   {
    "duration": 108,
    "start_time": "2024-09-09T23:24:13.017Z"
   },
   {
    "duration": 88,
    "start_time": "2024-09-09T23:24:13.127Z"
   },
   {
    "duration": 106,
    "start_time": "2024-09-09T23:24:13.216Z"
   },
   {
    "duration": 7,
    "start_time": "2024-09-09T23:24:13.324Z"
   },
   {
    "duration": 3,
    "start_time": "2024-09-09T23:24:13.332Z"
   },
   {
    "duration": 6,
    "start_time": "2024-09-09T23:24:13.337Z"
   },
   {
    "duration": 3,
    "start_time": "2024-09-09T23:24:13.344Z"
   },
   {
    "duration": 23,
    "start_time": "2024-09-09T23:24:13.349Z"
   },
   {
    "duration": 1035,
    "start_time": "2024-09-09T23:24:13.374Z"
   },
   {
    "duration": 32,
    "start_time": "2024-09-09T23:24:14.411Z"
   },
   {
    "duration": 26,
    "start_time": "2024-09-09T23:24:14.446Z"
   },
   {
    "duration": 36,
    "start_time": "2024-09-09T23:24:14.473Z"
   },
   {
    "duration": 7,
    "start_time": "2024-09-09T23:24:14.512Z"
   },
   {
    "duration": 23,
    "start_time": "2024-09-09T23:24:14.521Z"
   },
   {
    "duration": 65,
    "start_time": "2024-09-09T23:24:14.545Z"
   },
   {
    "duration": 271,
    "start_time": "2024-09-09T23:24:14.612Z"
   },
   {
    "duration": 44,
    "start_time": "2024-09-09T23:24:21.070Z"
   },
   {
    "duration": 44,
    "start_time": "2024-09-09T23:25:42.647Z"
   },
   {
    "duration": 17,
    "start_time": "2024-09-09T23:29:16.448Z"
   },
   {
    "duration": 7,
    "start_time": "2024-09-09T23:29:25.987Z"
   },
   {
    "duration": 21,
    "start_time": "2024-09-09T23:32:41.519Z"
   },
   {
    "duration": 7,
    "start_time": "2024-09-09T23:33:39.954Z"
   },
   {
    "duration": 5,
    "start_time": "2024-09-09T23:47:43.270Z"
   },
   {
    "duration": 8,
    "start_time": "2024-09-09T23:47:53.023Z"
   },
   {
    "duration": 10,
    "start_time": "2024-09-09T23:50:24.911Z"
   },
   {
    "duration": 431,
    "start_time": "2024-09-09T23:54:24.288Z"
   },
   {
    "duration": 52,
    "start_time": "2024-09-09T23:56:42.372Z"
   },
   {
    "duration": 1070,
    "start_time": "2024-09-09T23:58:34.016Z"
   },
   {
    "duration": 6,
    "start_time": "2024-09-09T23:58:51.283Z"
   },
   {
    "duration": 875,
    "start_time": "2024-09-09T23:59:46.957Z"
   },
   {
    "duration": 563,
    "start_time": "2024-09-10T00:01:16.563Z"
   },
   {
    "duration": 491,
    "start_time": "2024-09-10T00:02:03.963Z"
   },
   {
    "duration": 838,
    "start_time": "2024-09-10T00:02:29.224Z"
   },
   {
    "duration": 112,
    "start_time": "2024-09-10T00:02:30.065Z"
   },
   {
    "duration": 78,
    "start_time": "2024-09-10T00:02:30.179Z"
   },
   {
    "duration": 116,
    "start_time": "2024-09-10T00:02:30.259Z"
   },
   {
    "duration": 7,
    "start_time": "2024-09-10T00:02:30.378Z"
   },
   {
    "duration": 3,
    "start_time": "2024-09-10T00:02:30.387Z"
   },
   {
    "duration": 22,
    "start_time": "2024-09-10T00:02:30.392Z"
   },
   {
    "duration": 3,
    "start_time": "2024-09-10T00:02:30.416Z"
   },
   {
    "duration": 22,
    "start_time": "2024-09-10T00:02:30.421Z"
   },
   {
    "duration": 1068,
    "start_time": "2024-09-10T00:02:30.445Z"
   },
   {
    "duration": 34,
    "start_time": "2024-09-10T00:02:31.515Z"
   },
   {
    "duration": 27,
    "start_time": "2024-09-10T00:02:31.550Z"
   },
   {
    "duration": 32,
    "start_time": "2024-09-10T00:02:31.579Z"
   },
   {
    "duration": 7,
    "start_time": "2024-09-10T00:02:31.615Z"
   },
   {
    "duration": 23,
    "start_time": "2024-09-10T00:02:31.623Z"
   },
   {
    "duration": 63,
    "start_time": "2024-09-10T00:02:31.647Z"
   },
   {
    "duration": 46,
    "start_time": "2024-09-10T00:02:31.712Z"
   },
   {
    "duration": 492,
    "start_time": "2024-09-10T00:02:31.760Z"
   },
   {
    "duration": 9,
    "start_time": "2024-09-10T00:04:07.999Z"
   },
   {
    "duration": 10,
    "start_time": "2024-09-10T00:05:16.259Z"
   },
   {
    "duration": 5,
    "start_time": "2024-09-10T00:14:08.973Z"
   },
   {
    "duration": 1380,
    "start_time": "2024-09-10T00:14:18.130Z"
   },
   {
    "duration": 28,
    "start_time": "2024-09-10T00:14:37.000Z"
   },
   {
    "duration": 12,
    "start_time": "2024-09-10T00:16:14.291Z"
   },
   {
    "duration": 13,
    "start_time": "2024-09-10T00:19:16.326Z"
   },
   {
    "duration": 14,
    "start_time": "2024-09-10T00:21:24.331Z"
   },
   {
    "duration": 11,
    "start_time": "2024-09-10T00:23:11.884Z"
   },
   {
    "duration": 11,
    "start_time": "2024-09-10T00:23:17.810Z"
   },
   {
    "duration": 11,
    "start_time": "2024-09-10T00:24:02.256Z"
   },
   {
    "duration": 13,
    "start_time": "2024-09-10T00:24:15.232Z"
   },
   {
    "duration": 11,
    "start_time": "2024-09-10T00:24:18.632Z"
   },
   {
    "duration": 15,
    "start_time": "2024-09-10T00:24:36.579Z"
   },
   {
    "duration": 12,
    "start_time": "2024-09-10T00:25:26.649Z"
   },
   {
    "duration": 11,
    "start_time": "2024-09-10T00:28:39.584Z"
   },
   {
    "duration": 11,
    "start_time": "2024-09-10T00:29:00.732Z"
   },
   {
    "duration": 2533,
    "start_time": "2024-09-10T15:52:13.257Z"
   },
   {
    "duration": 142,
    "start_time": "2024-09-10T15:52:15.792Z"
   },
   {
    "duration": 84,
    "start_time": "2024-09-10T15:52:15.936Z"
   },
   {
    "duration": 109,
    "start_time": "2024-09-10T15:52:16.022Z"
   },
   {
    "duration": 7,
    "start_time": "2024-09-10T15:52:16.134Z"
   },
   {
    "duration": 3,
    "start_time": "2024-09-10T15:52:16.143Z"
   },
   {
    "duration": 25,
    "start_time": "2024-09-10T15:52:16.148Z"
   },
   {
    "duration": 3,
    "start_time": "2024-09-10T15:52:16.174Z"
   },
   {
    "duration": 21,
    "start_time": "2024-09-10T15:52:16.178Z"
   },
   {
    "duration": 1054,
    "start_time": "2024-09-10T15:52:16.201Z"
   },
   {
    "duration": 32,
    "start_time": "2024-09-10T15:52:17.256Z"
   },
   {
    "duration": 25,
    "start_time": "2024-09-10T15:52:17.290Z"
   },
   {
    "duration": 18,
    "start_time": "2024-09-10T15:52:17.316Z"
   },
   {
    "duration": 7,
    "start_time": "2024-09-10T15:52:17.337Z"
   },
   {
    "duration": 23,
    "start_time": "2024-09-10T15:52:17.370Z"
   },
   {
    "duration": 39,
    "start_time": "2024-09-10T15:52:17.394Z"
   },
   {
    "duration": 58,
    "start_time": "2024-09-10T15:52:17.434Z"
   },
   {
    "duration": 11,
    "start_time": "2024-09-10T15:52:17.494Z"
   },
   {
    "duration": 2,
    "start_time": "2024-09-10T15:52:23.588Z"
   },
   {
    "duration": 10,
    "start_time": "2024-09-10T15:53:00.296Z"
   },
   {
    "duration": 266,
    "start_time": "2024-09-10T15:54:57.773Z"
   },
   {
    "duration": 3,
    "start_time": "2024-09-10T15:55:22.906Z"
   },
   {
    "duration": 3535,
    "start_time": "2024-09-10T15:55:27.588Z"
   },
   {
    "duration": 11,
    "start_time": "2024-09-10T15:55:49.220Z"
   },
   {
    "duration": 14,
    "start_time": "2024-09-10T16:01:54.263Z"
   },
   {
    "duration": 21,
    "start_time": "2024-09-10T16:02:04.558Z"
   },
   {
    "duration": 14,
    "start_time": "2024-09-10T16:07:12.596Z"
   },
   {
    "duration": 10,
    "start_time": "2024-09-10T16:07:23.678Z"
   },
   {
    "duration": 9,
    "start_time": "2024-09-10T16:08:08.380Z"
   },
   {
    "duration": 12,
    "start_time": "2024-09-10T16:08:17.993Z"
   },
   {
    "duration": 13,
    "start_time": "2024-09-10T16:08:36.226Z"
   },
   {
    "duration": 5,
    "start_time": "2024-09-10T16:08:50.903Z"
   },
   {
    "duration": 2,
    "start_time": "2024-09-10T16:10:30.841Z"
   },
   {
    "duration": 58,
    "start_time": "2024-09-10T16:10:48.547Z"
   },
   {
    "duration": 5,
    "start_time": "2024-09-10T16:11:05.293Z"
   },
   {
    "duration": 15,
    "start_time": "2024-09-10T16:13:38.372Z"
   },
   {
    "duration": 18,
    "start_time": "2024-09-10T16:13:43.070Z"
   },
   {
    "duration": 4,
    "start_time": "2024-09-10T16:23:06.240Z"
   },
   {
    "duration": 14,
    "start_time": "2024-09-10T16:24:10.959Z"
   },
   {
    "duration": 3,
    "start_time": "2024-09-10T16:24:28.306Z"
   },
   {
    "duration": 4,
    "start_time": "2024-09-10T16:24:37.104Z"
   },
   {
    "duration": 57,
    "start_time": "2024-09-10T16:25:32.028Z"
   },
   {
    "duration": 5,
    "start_time": "2024-09-10T16:25:43.936Z"
   },
   {
    "duration": 15,
    "start_time": "2024-09-10T16:30:50.362Z"
   },
   {
    "duration": 6,
    "start_time": "2024-09-10T16:33:08.518Z"
   },
   {
    "duration": 6,
    "start_time": "2024-09-10T16:33:24.168Z"
   },
   {
    "duration": 10,
    "start_time": "2024-09-10T16:45:29.695Z"
   },
   {
    "duration": 19,
    "start_time": "2024-09-10T16:58:17.233Z"
   },
   {
    "duration": 13,
    "start_time": "2024-09-10T16:58:33.000Z"
   },
   {
    "duration": 7,
    "start_time": "2024-09-10T17:00:39.876Z"
   },
   {
    "duration": 21,
    "start_time": "2024-09-10T17:00:46.121Z"
   },
   {
    "duration": 2,
    "start_time": "2024-09-10T17:00:56.621Z"
   },
   {
    "duration": 801,
    "start_time": "2024-09-10T17:01:05.344Z"
   },
   {
    "duration": 110,
    "start_time": "2024-09-10T17:01:06.148Z"
   },
   {
    "duration": 71,
    "start_time": "2024-09-10T17:01:06.260Z"
   },
   {
    "duration": 116,
    "start_time": "2024-09-10T17:01:06.334Z"
   },
   {
    "duration": 7,
    "start_time": "2024-09-10T17:01:06.453Z"
   },
   {
    "duration": 9,
    "start_time": "2024-09-10T17:01:06.462Z"
   },
   {
    "duration": 7,
    "start_time": "2024-09-10T17:01:06.473Z"
   },
   {
    "duration": 3,
    "start_time": "2024-09-10T17:01:06.482Z"
   },
   {
    "duration": 24,
    "start_time": "2024-09-10T17:01:06.487Z"
   },
   {
    "duration": 1072,
    "start_time": "2024-09-10T17:01:06.514Z"
   },
   {
    "duration": 33,
    "start_time": "2024-09-10T17:01:07.588Z"
   },
   {
    "duration": 26,
    "start_time": "2024-09-10T17:01:07.623Z"
   },
   {
    "duration": 19,
    "start_time": "2024-09-10T17:01:07.651Z"
   },
   {
    "duration": 7,
    "start_time": "2024-09-10T17:01:07.672Z"
   },
   {
    "duration": 23,
    "start_time": "2024-09-10T17:01:07.680Z"
   },
   {
    "duration": 41,
    "start_time": "2024-09-10T17:01:07.705Z"
   },
   {
    "duration": 43,
    "start_time": "2024-09-10T17:01:07.770Z"
   },
   {
    "duration": 11,
    "start_time": "2024-09-10T17:01:07.814Z"
   },
   {
    "duration": 16,
    "start_time": "2024-09-10T17:01:07.826Z"
   },
   {
    "duration": 246,
    "start_time": "2024-09-10T17:01:07.843Z"
   },
   {
    "duration": 0,
    "start_time": "2024-09-10T17:01:08.091Z"
   },
   {
    "duration": 6,
    "start_time": "2024-09-10T17:01:41.419Z"
   },
   {
    "duration": 21,
    "start_time": "2024-09-10T17:01:46.910Z"
   },
   {
    "duration": 413,
    "start_time": "2024-09-10T17:02:05.107Z"
   },
   {
    "duration": 98,
    "start_time": "2024-09-10T17:03:10.158Z"
   },
   {
    "duration": 11,
    "start_time": "2024-09-10T17:03:28.675Z"
   },
   {
    "duration": 98,
    "start_time": "2024-09-10T17:03:53.282Z"
   },
   {
    "duration": 98,
    "start_time": "2024-09-10T17:05:03.755Z"
   },
   {
    "duration": 238,
    "start_time": "2024-09-10T17:05:19.223Z"
   },
   {
    "duration": 15,
    "start_time": "2024-09-10T17:29:45.654Z"
   },
   {
    "duration": 19029,
    "start_time": "2024-09-10T17:30:00.231Z"
   },
   {
    "duration": 770,
    "start_time": "2024-09-10T17:31:52.732Z"
   },
   {
    "duration": 108,
    "start_time": "2024-09-10T17:31:53.504Z"
   },
   {
    "duration": 82,
    "start_time": "2024-09-10T17:31:53.614Z"
   },
   {
    "duration": 102,
    "start_time": "2024-09-10T17:31:53.698Z"
   },
   {
    "duration": 6,
    "start_time": "2024-09-10T17:31:53.803Z"
   },
   {
    "duration": 3,
    "start_time": "2024-09-10T17:31:53.811Z"
   },
   {
    "duration": 6,
    "start_time": "2024-09-10T17:31:53.816Z"
   },
   {
    "duration": 3,
    "start_time": "2024-09-10T17:31:53.824Z"
   },
   {
    "duration": 50,
    "start_time": "2024-09-10T17:31:53.829Z"
   },
   {
    "duration": 1065,
    "start_time": "2024-09-10T17:31:53.881Z"
   },
   {
    "duration": 33,
    "start_time": "2024-09-10T17:31:54.949Z"
   },
   {
    "duration": 27,
    "start_time": "2024-09-10T17:31:54.984Z"
   },
   {
    "duration": 19,
    "start_time": "2024-09-10T17:31:55.013Z"
   },
   {
    "duration": 7,
    "start_time": "2024-09-10T17:31:55.035Z"
   },
   {
    "duration": 45,
    "start_time": "2024-09-10T17:31:55.043Z"
   },
   {
    "duration": 40,
    "start_time": "2024-09-10T17:31:55.089Z"
   },
   {
    "duration": 55,
    "start_time": "2024-09-10T17:31:55.130Z"
   },
   {
    "duration": 9,
    "start_time": "2024-09-10T17:31:55.187Z"
   },
   {
    "duration": 16,
    "start_time": "2024-09-10T17:31:55.198Z"
   },
   {
    "duration": 6,
    "start_time": "2024-09-10T17:31:55.215Z"
   },
   {
    "duration": 18157,
    "start_time": "2024-09-10T17:31:55.223Z"
   },
   {
    "duration": 11,
    "start_time": "2024-09-10T17:32:13.382Z"
   },
   {
    "duration": 250,
    "start_time": "2024-09-10T17:32:13.394Z"
   },
   {
    "duration": 18326,
    "start_time": "2024-09-10T17:34:27.700Z"
   },
   {
    "duration": 18429,
    "start_time": "2024-09-10T17:43:43.411Z"
   },
   {
    "duration": 18739,
    "start_time": "2024-09-10T17:44:25.945Z"
   },
   {
    "duration": 223,
    "start_time": "2024-09-10T17:46:43.003Z"
   },
   {
    "duration": 20,
    "start_time": "2024-09-10T17:48:22.462Z"
   },
   {
    "duration": 21,
    "start_time": "2024-09-10T17:48:58.987Z"
   },
   {
    "duration": 532,
    "start_time": "2024-09-10T17:50:07.439Z"
   },
   {
    "duration": 4,
    "start_time": "2024-09-10T17:50:44.709Z"
   },
   {
    "duration": 22,
    "start_time": "2024-09-10T17:51:01.565Z"
   },
   {
    "duration": 218,
    "start_time": "2024-09-10T17:51:41.207Z"
   },
   {
    "duration": 22,
    "start_time": "2024-09-10T17:51:50.786Z"
   },
   {
    "duration": 6,
    "start_time": "2024-09-10T18:10:50.714Z"
   },
   {
    "duration": 23,
    "start_time": "2024-09-10T18:11:39.933Z"
   },
   {
    "duration": 65,
    "start_time": "2024-09-10T18:12:51.467Z"
   },
   {
    "duration": 40,
    "start_time": "2024-09-10T18:13:43.696Z"
   },
   {
    "duration": 62,
    "start_time": "2024-09-10T18:14:14.140Z"
   },
   {
    "duration": 17,
    "start_time": "2024-09-10T18:14:20.376Z"
   },
   {
    "duration": 51,
    "start_time": "2024-09-10T18:15:34.009Z"
   },
   {
    "duration": 7,
    "start_time": "2024-09-10T18:15:38.494Z"
   },
   {
    "duration": 21,
    "start_time": "2024-09-10T18:27:10.795Z"
   },
   {
    "duration": 37,
    "start_time": "2024-09-10T18:27:37.352Z"
   },
   {
    "duration": 22,
    "start_time": "2024-09-10T18:27:59.482Z"
   },
   {
    "duration": 22,
    "start_time": "2024-09-10T18:28:18.092Z"
   },
   {
    "duration": 25,
    "start_time": "2024-09-10T18:32:29.948Z"
   },
   {
    "duration": 5,
    "start_time": "2024-09-10T18:34:19.002Z"
   },
   {
    "duration": 21,
    "start_time": "2024-09-10T18:34:34.398Z"
   },
   {
    "duration": 22,
    "start_time": "2024-09-10T18:34:48.287Z"
   },
   {
    "duration": 22,
    "start_time": "2024-09-10T18:34:55.539Z"
   },
   {
    "duration": 6,
    "start_time": "2024-09-10T18:39:30.681Z"
   },
   {
    "duration": 22,
    "start_time": "2024-09-10T18:39:35.150Z"
   },
   {
    "duration": 68,
    "start_time": "2024-09-10T18:42:05.780Z"
   },
   {
    "duration": 2496,
    "start_time": "2024-09-10T22:08:53.055Z"
   },
   {
    "duration": 158,
    "start_time": "2024-09-10T22:08:55.553Z"
   },
   {
    "duration": 64,
    "start_time": "2024-09-10T22:08:55.715Z"
   },
   {
    "duration": 113,
    "start_time": "2024-09-10T22:08:55.783Z"
   },
   {
    "duration": 6,
    "start_time": "2024-09-10T22:08:55.898Z"
   },
   {
    "duration": 3,
    "start_time": "2024-09-10T22:08:55.906Z"
   },
   {
    "duration": 19,
    "start_time": "2024-09-10T22:08:55.910Z"
   },
   {
    "duration": 2,
    "start_time": "2024-09-10T22:08:55.931Z"
   },
   {
    "duration": 21,
    "start_time": "2024-09-10T22:08:55.936Z"
   },
   {
    "duration": 995,
    "start_time": "2024-09-10T22:08:55.961Z"
   },
   {
    "duration": 32,
    "start_time": "2024-09-10T22:08:56.958Z"
   },
   {
    "duration": 26,
    "start_time": "2024-09-10T22:08:56.992Z"
   },
   {
    "duration": 18,
    "start_time": "2024-09-10T22:08:57.023Z"
   },
   {
    "duration": 7,
    "start_time": "2024-09-10T22:08:57.042Z"
   },
   {
    "duration": 22,
    "start_time": "2024-09-10T22:08:57.051Z"
   },
   {
    "duration": 61,
    "start_time": "2024-09-10T22:08:57.074Z"
   },
   {
    "duration": 42,
    "start_time": "2024-09-10T22:08:57.137Z"
   },
   {
    "duration": 12,
    "start_time": "2024-09-10T22:08:57.180Z"
   },
   {
    "duration": 36,
    "start_time": "2024-09-10T22:08:57.193Z"
   },
   {
    "duration": 6,
    "start_time": "2024-09-10T22:08:57.231Z"
   },
   {
    "duration": 48,
    "start_time": "2024-09-10T22:08:57.239Z"
   },
   {
    "duration": 3,
    "start_time": "2024-09-10T22:08:57.288Z"
   },
   {
    "duration": 44,
    "start_time": "2024-09-10T22:08:57.293Z"
   },
   {
    "duration": 290,
    "start_time": "2024-09-10T22:08:57.339Z"
   },
   {
    "duration": 0,
    "start_time": "2024-09-10T22:08:57.630Z"
   },
   {
    "duration": 59,
    "start_time": "2024-09-10T22:11:56.865Z"
   },
   {
    "duration": 6,
    "start_time": "2024-09-10T22:24:33.587Z"
   },
   {
    "duration": 11,
    "start_time": "2024-09-10T22:25:19.125Z"
   },
   {
    "duration": 15,
    "start_time": "2024-09-10T22:27:58.424Z"
   },
   {
    "duration": 279,
    "start_time": "2024-09-10T22:28:17.864Z"
   },
   {
    "duration": 6,
    "start_time": "2024-09-10T22:28:41.465Z"
   },
   {
    "duration": 5,
    "start_time": "2024-09-10T22:29:13.224Z"
   },
   {
    "duration": 6,
    "start_time": "2024-09-10T22:29:20.481Z"
   },
   {
    "duration": 7,
    "start_time": "2024-09-10T22:29:30.206Z"
   },
   {
    "duration": 19,
    "start_time": "2024-09-10T22:29:58.381Z"
   },
   {
    "duration": 21,
    "start_time": "2024-09-10T22:30:19.725Z"
   },
   {
    "duration": 420,
    "start_time": "2024-09-10T22:30:32.575Z"
   },
   {
    "duration": 8,
    "start_time": "2024-09-10T22:32:37.364Z"
   },
   {
    "duration": 16,
    "start_time": "2024-09-10T22:43:58.050Z"
   },
   {
    "duration": 10,
    "start_time": "2024-09-10T22:44:06.774Z"
   },
   {
    "duration": 19,
    "start_time": "2024-09-10T22:47:46.369Z"
   },
   {
    "duration": 23,
    "start_time": "2024-09-10T22:47:58.445Z"
   },
   {
    "duration": 23,
    "start_time": "2024-09-10T22:49:04.367Z"
   },
   {
    "duration": 30,
    "start_time": "2024-09-10T22:49:51.899Z"
   },
   {
    "duration": 21,
    "start_time": "2024-09-10T22:49:59.821Z"
   },
   {
    "duration": 22,
    "start_time": "2024-09-10T22:51:59.325Z"
   },
   {
    "duration": 22,
    "start_time": "2024-09-10T23:15:05.845Z"
   },
   {
    "duration": 134,
    "start_time": "2024-09-10T23:15:32.728Z"
   },
   {
    "duration": 54,
    "start_time": "2024-09-10T23:16:02.909Z"
   },
   {
    "duration": 14,
    "start_time": "2024-09-10T23:16:56.584Z"
   },
   {
    "duration": 25,
    "start_time": "2024-09-10T23:17:16.207Z"
   },
   {
    "duration": 24,
    "start_time": "2024-09-10T23:17:22.275Z"
   },
   {
    "duration": 24,
    "start_time": "2024-09-10T23:19:07.432Z"
   },
   {
    "duration": 25,
    "start_time": "2024-09-10T23:19:11.071Z"
   },
   {
    "duration": 25,
    "start_time": "2024-09-10T23:19:17.317Z"
   },
   {
    "duration": 22,
    "start_time": "2024-09-10T23:19:21.025Z"
   },
   {
    "duration": 24,
    "start_time": "2024-09-10T23:20:34.053Z"
   },
   {
    "duration": 21,
    "start_time": "2024-09-10T23:20:37.648Z"
   },
   {
    "duration": 25,
    "start_time": "2024-09-10T23:20:48.499Z"
   },
   {
    "duration": 21,
    "start_time": "2024-09-10T23:20:51.609Z"
   },
   {
    "duration": 829,
    "start_time": "2024-09-10T23:21:12.848Z"
   },
   {
    "duration": 105,
    "start_time": "2024-09-10T23:21:13.679Z"
   },
   {
    "duration": 81,
    "start_time": "2024-09-10T23:21:13.786Z"
   },
   {
    "duration": 104,
    "start_time": "2024-09-10T23:21:13.869Z"
   },
   {
    "duration": 7,
    "start_time": "2024-09-10T23:21:13.975Z"
   },
   {
    "duration": 3,
    "start_time": "2024-09-10T23:21:13.983Z"
   },
   {
    "duration": 7,
    "start_time": "2024-09-10T23:21:13.988Z"
   },
   {
    "duration": 2,
    "start_time": "2024-09-10T23:21:13.997Z"
   },
   {
    "duration": 45,
    "start_time": "2024-09-10T23:21:14.001Z"
   },
   {
    "duration": 1045,
    "start_time": "2024-09-10T23:21:14.047Z"
   },
   {
    "duration": 33,
    "start_time": "2024-09-10T23:21:15.094Z"
   },
   {
    "duration": 25,
    "start_time": "2024-09-10T23:21:15.129Z"
   },
   {
    "duration": 18,
    "start_time": "2024-09-10T23:21:15.156Z"
   },
   {
    "duration": 7,
    "start_time": "2024-09-10T23:21:15.177Z"
   },
   {
    "duration": 43,
    "start_time": "2024-09-10T23:21:15.185Z"
   },
   {
    "duration": 40,
    "start_time": "2024-09-10T23:21:15.229Z"
   },
   {
    "duration": 55,
    "start_time": "2024-09-10T23:21:15.271Z"
   },
   {
    "duration": 10,
    "start_time": "2024-09-10T23:21:15.328Z"
   },
   {
    "duration": 16,
    "start_time": "2024-09-10T23:21:15.340Z"
   },
   {
    "duration": 5,
    "start_time": "2024-09-10T23:21:15.358Z"
   },
   {
    "duration": 87,
    "start_time": "2024-09-10T23:21:15.365Z"
   },
   {
    "duration": 23,
    "start_time": "2024-09-10T23:21:15.454Z"
   },
   {
    "duration": 19,
    "start_time": "2024-09-10T23:21:15.479Z"
   },
   {
    "duration": 118,
    "start_time": "2024-09-10T23:24:52.013Z"
   },
   {
    "duration": 23,
    "start_time": "2024-09-10T23:28:34.714Z"
   },
   {
    "duration": 23,
    "start_time": "2024-09-10T23:28:44.482Z"
   },
   {
    "duration": 21,
    "start_time": "2024-09-10T23:28:49.114Z"
   },
   {
    "duration": 2497,
    "start_time": "2024-09-11T16:34:53.916Z"
   },
   {
    "duration": 156,
    "start_time": "2024-09-11T16:34:56.570Z"
   },
   {
    "duration": 76,
    "start_time": "2024-09-11T16:35:26.310Z"
   },
   {
    "duration": 95,
    "start_time": "2024-09-11T16:36:18.022Z"
   },
   {
    "duration": 9,
    "start_time": "2024-09-11T16:38:32.695Z"
   },
   {
    "duration": 3,
    "start_time": "2024-09-11T16:38:40.588Z"
   },
   {
    "duration": 9,
    "start_time": "2024-09-11T16:38:45.739Z"
   },
   {
    "duration": 2,
    "start_time": "2024-09-11T16:38:50.038Z"
   },
   {
    "duration": 31,
    "start_time": "2024-09-11T16:40:24.902Z"
   },
   {
    "duration": 969,
    "start_time": "2024-09-11T16:40:32.601Z"
   },
   {
    "duration": 32,
    "start_time": "2024-09-11T16:43:12.654Z"
   },
   {
    "duration": 27,
    "start_time": "2024-09-11T16:44:54.892Z"
   },
   {
    "duration": 18,
    "start_time": "2024-09-11T16:45:46.709Z"
   },
   {
    "duration": 18,
    "start_time": "2024-09-11T16:46:14.171Z"
   },
   {
    "duration": 7,
    "start_time": "2024-09-11T16:47:20.894Z"
   },
   {
    "duration": 22,
    "start_time": "2024-09-11T16:54:58.037Z"
   },
   {
    "duration": 14,
    "start_time": "2024-09-11T16:56:07.904Z"
   },
   {
    "duration": 7,
    "start_time": "2024-09-11T16:56:09.164Z"
   },
   {
    "duration": 21,
    "start_time": "2024-09-11T16:56:10.197Z"
   },
   {
    "duration": 40,
    "start_time": "2024-09-11T16:57:46.690Z"
   },
   {
    "duration": 44,
    "start_time": "2024-09-11T17:00:10.668Z"
   },
   {
    "duration": 10,
    "start_time": "2024-09-11T17:00:38.601Z"
   },
   {
    "duration": 16,
    "start_time": "2024-09-11T17:03:19.944Z"
   },
   {
    "duration": 6,
    "start_time": "2024-09-11T17:03:22.408Z"
   },
   {
    "duration": 59,
    "start_time": "2024-09-11T17:03:28.192Z"
   },
   {
    "duration": 23,
    "start_time": "2024-09-11T17:03:33.657Z"
   },
   {
    "duration": 22,
    "start_time": "2024-09-11T17:03:37.035Z"
   },
   {
    "duration": 7,
    "start_time": "2024-09-11T17:04:41.563Z"
   },
   {
    "duration": 266,
    "start_time": "2024-09-11T17:05:47.226Z"
   },
   {
    "duration": 6,
    "start_time": "2024-09-11T17:05:55.373Z"
   },
   {
    "duration": 6,
    "start_time": "2024-09-11T17:06:06.293Z"
   },
   {
    "duration": 6,
    "start_time": "2024-09-11T17:06:12.565Z"
   },
   {
    "duration": 8,
    "start_time": "2024-09-11T17:06:53.819Z"
   },
   {
    "duration": 8,
    "start_time": "2024-09-11T17:07:11.709Z"
   },
   {
    "duration": 11,
    "start_time": "2024-09-11T17:07:55.101Z"
   },
   {
    "duration": 2483,
    "start_time": "2024-09-12T00:54:04.400Z"
   },
   {
    "duration": 139,
    "start_time": "2024-09-12T00:54:06.885Z"
   },
   {
    "duration": 73,
    "start_time": "2024-09-12T00:54:07.027Z"
   },
   {
    "duration": 110,
    "start_time": "2024-09-12T00:54:07.101Z"
   },
   {
    "duration": 17,
    "start_time": "2024-09-12T00:54:07.214Z"
   },
   {
    "duration": 3,
    "start_time": "2024-09-12T00:54:07.232Z"
   },
   {
    "duration": 7,
    "start_time": "2024-09-12T00:54:07.236Z"
   },
   {
    "duration": 3,
    "start_time": "2024-09-12T00:54:07.245Z"
   },
   {
    "duration": 23,
    "start_time": "2024-09-12T00:54:07.250Z"
   },
   {
    "duration": 1085,
    "start_time": "2024-09-12T00:54:07.275Z"
   },
   {
    "duration": 36,
    "start_time": "2024-09-12T00:54:08.362Z"
   },
   {
    "duration": 26,
    "start_time": "2024-09-12T00:54:08.399Z"
   },
   {
    "duration": 18,
    "start_time": "2024-09-12T00:54:08.432Z"
   },
   {
    "duration": 8,
    "start_time": "2024-09-12T00:54:08.453Z"
   },
   {
    "duration": 24,
    "start_time": "2024-09-12T00:54:08.463Z"
   },
   {
    "duration": 70,
    "start_time": "2024-09-12T00:54:08.489Z"
   },
   {
    "duration": 45,
    "start_time": "2024-09-12T00:54:08.560Z"
   },
   {
    "duration": 5,
    "start_time": "2024-09-12T00:54:08.607Z"
   },
   {
    "duration": 27,
    "start_time": "2024-09-12T00:54:08.614Z"
   },
   {
    "duration": 17,
    "start_time": "2024-09-12T00:54:08.642Z"
   },
   {
    "duration": 6,
    "start_time": "2024-09-12T00:54:08.661Z"
   },
   {
    "duration": 89,
    "start_time": "2024-09-12T00:54:08.669Z"
   },
   {
    "duration": 24,
    "start_time": "2024-09-12T00:54:08.760Z"
   },
   {
    "duration": 22,
    "start_time": "2024-09-12T00:54:08.785Z"
   }
  ],
  "kernelspec": {
   "display_name": "Python 3 (ipykernel)",
   "language": "python",
   "name": "python3"
  },
  "language_info": {
   "codemirror_mode": {
    "name": "ipython",
    "version": 3
   },
   "file_extension": ".py",
   "mimetype": "text/x-python",
   "name": "python",
   "nbconvert_exporter": "python",
   "pygments_lexer": "ipython3",
   "version": "3.9.19"
  },
  "toc": {
   "base_numbering": 1,
   "nav_menu": {},
   "number_sections": true,
   "sideBar": true,
   "skip_h1_title": true,
   "title_cell": "Table of Contents",
   "title_sidebar": "Contents",
   "toc_cell": false,
   "toc_position": {},
   "toc_section_display": true,
   "toc_window_display": false
  }
 },
 "nbformat": 4,
 "nbformat_minor": 2
}
